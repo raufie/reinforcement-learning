{
 "cells": [
  {
   "cell_type": "markdown",
   "metadata": {},
   "source": [
    "# Let's learn how custom environments are built with OpenAI's GYM\n",
    "\n",
    "## Why am I learning to make environments in gym\n",
    "\n",
    "I'm following gym's official tutorial for this, I'll try to summarize the stuff here, but this is more of a playground where i just test stuff without worrying about it, its included in the repo anyway becuz it kinda makes sense, im learning it to make the maze environment to test how dynaQ+ learns to beat dynaQ on changing the changing environment... I could do it simply but most of my controls are writen to expect gym Env objects... plus its useful to have some software framework to follow when making environments, afterall in the real world you'll be making your own environments for most of the software based environments...i.e custom games."
   ]
  },
  {
   "cell_type": "markdown",
   "metadata": {},
   "source": [
    "# Making Grid World"
   ]
  },
  {
   "cell_type": "code",
   "execution_count": 295,
   "metadata": {},
   "outputs": [],
   "source": [
    "import gym\n",
    "from gym import spaces\n",
    "import pygame\n",
    "import numpy as np"
   ]
  },
  {
   "cell_type": "markdown",
   "metadata": {},
   "source": [
    "## The constructor\n",
    "- Specify Observation space (use the spaces module for observation_space and action space)\n",
    "- Specify Action space\n",
    "- Specify Action mappings (int->action) e.g 0->right, 1->up ...\n",
    "- Manage rendering modes"
   ]
  },
  {
   "cell_type": "markdown",
   "metadata": {},
   "source": [
    "## Getting Observations\n",
    "- Return objects that the agent will get upon calling env.reset or env.step\n",
    "- It can be implemented separately or as a common function like here in _get_obs"
   ]
  },
  {
   "cell_type": "markdown",
   "metadata": {},
   "source": [
    "## Reset and Step\n",
    "- Gym really gives you the freedom of doing whatever you want with reset and step as it should\n",
    "- In reset, reset the states as you wish, in step transform the states as you wish 🙄\n",
    "- step returns (next_state, reward, done, truncated(optional) , info\n",
    "- You may have never encountered truncated before like me, but it basically means whether the observation is complete or not... like in rgb observations you may reduce the original observation to be able to manage it becuz its a lot of data... so you'll return truncated to be true, here it is false, because what we observe is what we give to the agent back in form of observation"
   ]
  },
  {
   "cell_type": "code",
   "execution_count": 121,
   "metadata": {},
   "outputs": [],
   "source": [
    "class GridWorldEnv(gym.Env):\n",
    "    metadata = {\"render_modes\": [\"human\", \"rgb_array\"], \"render_fps\":4}\n",
    "    def __init__(self, render_mode=None, size=5):\n",
    "        self.size = size\n",
    "        self.window_size = 512 # pygame window size\n",
    "        \n",
    "# agent and target locations are encoded within the observation space using spaces.dict (specific to this env)\n",
    "# the observation space should be defined by spaces... there is no other way\n",
    "# this is essential and it really is a painless process\n",
    "\n",
    "        self.observation_space = spaces.Dict({\n",
    "            \"agent\": spaces.Box(0, size-1, shape=(2,), dtype=int),\n",
    "            \"target\": spaces.Box(0, size-1, shape=(2,), dtype=int)\n",
    "        })\n",
    "        \n",
    "        self.action_space = spaces.Discrete(4)\n",
    "        self.nS = 2* (size**2)\n",
    "        self.nA = 4\n",
    "#         dictionary map (a: (x, y))\n",
    "        self._action_to_direction = {\n",
    "            0: np.array([1,0]),\n",
    "            1: np.array([0,1]),\n",
    "            2: np.array([-1,0]),\n",
    "            3: np.array([0,-1]),\n",
    "        }\n",
    "        \n",
    "        assert render_mode is None or render_mode in self.metadata[\"render_modes\"]\n",
    "        self.render_mode = render_mode\n",
    "        self.window = None\n",
    "        self.clock = None\n",
    "    \n",
    "    def _get_obs(self):\n",
    "# we need to convert the environment into an observation\n",
    "# you can write a common method for both reset and step like this or do it separately\n",
    "        return {\"agent\": self._agent_location, \"target\":self._target_location}\n",
    "    \n",
    "    def _get_info(self):\n",
    "#         just as some extra piece of information we can provide manhattan distance\n",
    "# its really just a distance in terms of boxes/units (DX (boxes difference along X)+ (DY(boxes difference along Y)))\n",
    "# ord = 1 means its calculating manhattan distance... which is really just sum of the absolutes of the difference in this case\n",
    "\n",
    "        return {\"distance\": np.linalg.norm(self._agent_location - self._target_location, ord=1)}\n",
    "    \n",
    "    def reset(self, seed = None, options = None):\n",
    "#         we also need to worry about PRNGs here... gym takes care of that for you.\n",
    "# allow the function to pass seed and make sure to do super().reset(seed = seed)\n",
    "#         super().reset()\n",
    "    \n",
    "        self._agent_location = np.random.randint(0, self.size, size=(2,), dtype=int)\n",
    "        self._target_location = self._agent_location\n",
    "        \n",
    "        while np.array_equal(self._agent_location, self._target_location):\n",
    "            self._target_location = np.random.randint(0, self.size, size=(2,), dtype=int)\n",
    "            \n",
    "        observation = self._get_obs()\n",
    "        info = self._get_info()\n",
    "        \n",
    "        if self.render_mode == \"human\":\n",
    "            self._render_frame()\n",
    "            \n",
    "        return observation, info\n",
    "    \n",
    "    def step(self, action):\n",
    "        direction = self._action_to_direction[action]\n",
    "        \n",
    "        self._agent_location = np.clip(\n",
    "        self._agent_location + direction, 0, self.size-1)\n",
    "        \n",
    "        terminated = np.array_equal(self._agent_location, self._target_location)\n",
    "        \n",
    "#         rewards are sparse (u get 1 when u reach target else u get 0), its called binary sparse rewards lol\n",
    "\n",
    "        reward = 1 if terminated else 0\n",
    "        observation = self._get_obs()\n",
    "        info = self._get_info()\n",
    "        \n",
    "        if self.render_mode == \"human\":\n",
    "            self._render_frame()\n",
    "        \n",
    "        return observation, reward, terminated,False, info\n",
    "    \n",
    "    def render(self):\n",
    "        if self.render_mode ==\"rgb_array\":\n",
    "            return self._render_frame()\n",
    "    def _render_frame(self):\n",
    "        if self.window is None and self.render_mode == \"human\":\n",
    "            pygame.init()\n",
    "            pygame.display.init()\n",
    "            self.window = pygame.display.set_mode((self.window_size, self.window_size))\n",
    "        if self.clock is None and self.render_mode == \"human\":\n",
    "            self.clock = pygame.time.Clock()\n",
    "\n",
    "        canvas = pygame.Surface((self.window_size, self.window_size))\n",
    "        canvas.fill((255, 255, 255))\n",
    "        pix_square_size = (\n",
    "            self.window_size / self.size\n",
    "        )  # The size of a single grid square in pixels\n",
    "\n",
    "        # First we draw the target\n",
    "        pygame.draw.rect(\n",
    "            canvas,\n",
    "            (255, 0, 0),\n",
    "            pygame.Rect(\n",
    "                pix_square_size * self._target_location,\n",
    "                (pix_square_size, pix_square_size),\n",
    "            ),\n",
    "        )\n",
    "        # Now we draw the agent\n",
    "        pygame.draw.circle(\n",
    "            canvas,\n",
    "            (0, 0, 255),\n",
    "            (self._agent_location + 0.5) * pix_square_size,\n",
    "            pix_square_size / 3,\n",
    "        )\n",
    "\n",
    "        # Finally, add some gridlines\n",
    "        for x in range(self.size + 1):\n",
    "            pygame.draw.line(\n",
    "                canvas,\n",
    "                0,\n",
    "                (0, pix_square_size * x),\n",
    "                (self.window_size, pix_square_size * x),\n",
    "                width=3,\n",
    "            )\n",
    "            pygame.draw.line(\n",
    "                canvas,\n",
    "                0,\n",
    "                (pix_square_size * x, 0),\n",
    "                (pix_square_size * x, self.window_size),\n",
    "                width=3,\n",
    "            )\n",
    "\n",
    "        if self.render_mode == \"human\":\n",
    "            # The following line copies our drawings from `canvas` to the visible window\n",
    "            self.window.blit(canvas, canvas.get_rect())\n",
    "            pygame.event.pump()\n",
    "            pygame.display.update()\n",
    "\n",
    "            # We need to ensure that human-rendering occurs at the predefined framerate.\n",
    "            # The following line will automatically add a delay to keep the framerate stable.\n",
    "            self.clock.tick(self.metadata[\"render_fps\"])\n",
    "        else:  # rgb_array\n",
    "            return np.transpose(\n",
    "                np.array(pygame.surfarray.pixels3d(canvas)), axes=(1, 0, 2)\n",
    "            )\n"
   ]
  },
  {
   "cell_type": "code",
   "execution_count": 117,
   "metadata": {},
   "outputs": [],
   "source": [
    "env = GridWorldEnv()"
   ]
  },
  {
   "cell_type": "code",
   "execution_count": 123,
   "metadata": {},
   "outputs": [],
   "source": [
    "obs = env.reset()"
   ]
  },
  {
   "cell_type": "code",
   "execution_count": 131,
   "metadata": {},
   "outputs": [],
   "source": [
    "step = env.step(1)"
   ]
  },
  {
   "cell_type": "code",
   "execution_count": 146,
   "metadata": {},
   "outputs": [
    {
     "data": {
      "text/plain": [
       "(4, 4, 3, 1)"
      ]
     },
     "execution_count": 146,
     "metadata": {},
     "output_type": "execute_result"
    }
   ],
   "source": []
  },
  {
   "cell_type": "code",
   "execution_count": 122,
   "metadata": {},
   "outputs": [
    {
     "data": {
      "text/plain": [
       "40"
      ]
     },
     "execution_count": 122,
     "metadata": {},
     "output_type": "execute_result"
    }
   ],
   "source": [
    "\n",
    "(0,1)"
   ]
  },
  {
   "cell_type": "code",
   "execution_count": 108,
   "metadata": {},
   "outputs": [
    {
     "data": {
      "text/plain": [
       "10.0"
      ]
     },
     "execution_count": 108,
     "metadata": {},
     "output_type": "execute_result"
    }
   ],
   "source": [
    "np.linalg.norm([2,2,2,4], ord=1)"
   ]
  },
  {
   "cell_type": "code",
   "execution_count": 109,
   "metadata": {},
   "outputs": [
    {
     "data": {
      "text/plain": [
       "5.291502622129181"
      ]
     },
     "execution_count": 109,
     "metadata": {},
     "output_type": "execute_result"
    }
   ],
   "source": [
    "(2**2+2**2 + 2**2 + 4**2)**0.5"
   ]
  },
  {
   "cell_type": "code",
   "execution_count": 183,
   "metadata": {},
   "outputs": [
    {
     "ename": "TypeError",
     "evalue": "'shape' is an invalid keyword argument for arange()",
     "output_type": "error",
     "traceback": [
      "\u001b[1;31m---------------------------------------------------------------------------\u001b[0m",
      "\u001b[1;31mTypeError\u001b[0m                                 Traceback (most recent call last)",
      "\u001b[1;32m<ipython-input-183-e31307f23352>\u001b[0m in \u001b[0;36m<module>\u001b[1;34m\u001b[0m\n\u001b[1;32m----> 1\u001b[1;33m \u001b[0mnp\u001b[0m\u001b[1;33m.\u001b[0m\u001b[0marange\u001b[0m\u001b[1;33m(\u001b[0m\u001b[1;36m0\u001b[0m\u001b[1;33m,\u001b[0m\u001b[1;36m5\u001b[0m\u001b[1;33m,\u001b[0m \u001b[0mshape\u001b[0m\u001b[1;33m=\u001b[0m\u001b[1;33m(\u001b[0m\u001b[1;36m5\u001b[0m\u001b[1;33m,\u001b[0m\u001b[1;36m5\u001b[0m\u001b[1;33m)\u001b[0m\u001b[1;33m)\u001b[0m\u001b[1;33m\u001b[0m\u001b[1;33m\u001b[0m\u001b[0m\n\u001b[0m",
      "\u001b[1;31mTypeError\u001b[0m: 'shape' is an invalid keyword argument for arange()"
     ]
    }
   ],
   "source": [
    "np.arange(0,5, shape=(5,5))"
   ]
  },
  {
   "cell_type": "code",
   "execution_count": 244,
   "metadata": {},
   "outputs": [],
   "source": [
    "indices = np.indices((5,5,5,5))\n",
    "keys = np.stack(indices, axis=-1).reshape((-1,4))\n",
    "Q = {tuple(key): np.random.normal(0.5, 0.25, (4,)) for key in keys}"
   ]
  },
  {
   "cell_type": "code",
   "execution_count": 245,
   "metadata": {},
   "outputs": [
    {
     "data": {
      "text/plain": [
       "3"
      ]
     },
     "execution_count": 245,
     "metadata": {},
     "output_type": "execute_result"
    }
   ],
   "source": [
    "np.argmax(Q[(0,0,0,0)])"
   ]
  },
  {
   "cell_type": "code",
   "execution_count": 250,
   "metadata": {},
   "outputs": [],
   "source": [
    "def initializer(nS, nA):\n",
    "#     0,0,0,0 -> 4,4,4,4\n",
    "    indices = np.indices((5,5,5,5))\n",
    "    keys = np.stack(indices, axis=-1).reshape((-1,4))\n",
    "    Q = {tuple(key): np.random.normal(0.5, 0.25, (nA,)) for key in keys}\n",
    "    \n",
    "    return Q"
   ]
  },
  {
   "cell_type": "code",
   "execution_count": 442,
   "metadata": {},
   "outputs": [],
   "source": [
    "class QControl:\n",
    "    def __init__(self, nS, nA, terminal=list(range(37,48)), eps=None, initializer=None):\n",
    "        self.Q = np.random.normal(0.5,0.25, (nS, nA) )\n",
    "\n",
    "        \n",
    "        if initializer!=None:\n",
    "            self.Q = initializer(nS, nA)\n",
    "        \n",
    "        \n",
    "        for i in terminal:\n",
    "            self.Q[i] = np.array([0, 0, 0, 0])\n",
    "        \n",
    "        self.pi = np.random.randint(0, 4, (16, ), dtype=np.int8)\n",
    "        self.alpha = 0.2\n",
    "        self.gamma = 0.9\n",
    "        self.epsilon = eps\n",
    "        self.last_action = 0\n",
    "    \n",
    "    def policy(self, state, eps=None):\n",
    "        \n",
    "        if eps == None:\n",
    "            if self.epsilon != None:\n",
    "                eps = self.epsilon\n",
    "            else:\n",
    "                eps = 0.2\n",
    "        \n",
    "        \n",
    "        if np.random.random() >= eps:\n",
    "            return np.argmax(self.Q[state])\n",
    "        else:\n",
    "            return np.random.randint(0, 4)\n",
    "        \n",
    "    def learn(self, s, env, step_size, eps=None):\n",
    "        if eps == None:\n",
    "            if self.epsilon != None:\n",
    "                eps = self.epsilon\n",
    "            else:\n",
    "                eps = 0.2\n",
    "        a = self.policy(s, eps=eps)\n",
    "        s_, r, done, _, info = env.step(a)\n",
    "        \n",
    "        s_ = tuple([*s_[\"agent\"], *s_[\"target\"] ])\n",
    "        self.Q[s][a] = self.Q[s][a] + step_size*(r + np.max(self.Q[s_]) - self.Q[s][a]   )\n",
    "        \n",
    "        self.last_action = a\n",
    "        \n",
    "        return s_, r, done,_, info\n",
    "    \n",
    "    def plan(self, s, model, step_size,a,  eps=None):\n",
    "        \n",
    "                \n",
    "        r, s_ = model[(s,a)]\n",
    "        self.Q[s][a] = self.Q[s][a] + step_size*(r + np.max(self.Q[s_]) - self.Q[s][a]   )\n",
    "        self.last_action = a\n",
    "        return s_, r, False, {}\n",
    "    \n",
    "    def load_q_values(self, file_location):\n",
    "        f = open(file_location, \"rb\")\n",
    "        self.Q = pickle.load(f)"
   ]
  },
  {
   "cell_type": "code",
   "execution_count": 415,
   "metadata": {},
   "outputs": [],
   "source": [
    "def dyna(QControl, env, planning_steps, n_episodes,  step_size=0.5, episode_limit = 500):\n",
    "    \n",
    "    q_control = QControl(env.nS, env.nA, eps=0.2, terminal=[], initializer=initializer)\n",
    "    model = {}\n",
    "    \n",
    "    observed_states = set({})\n",
    "    \n",
    "    indices = np.indices((5,5,5,5))\n",
    "    keys = np.stack(indices, axis=-1).reshape((-1,4))\n",
    "    \n",
    "    observed_actions = {tuple(key):set() for key in keys}\n",
    "    curr_s = env.reset()\n",
    "    rewards = []\n",
    "    Rs= 0\n",
    "    steps = []\n",
    "    for i in range(n_episodes):\n",
    "        if i%100 == 0:\n",
    "            print(\"{:.2f} % done\".format(i/n_episodes))\n",
    "        done = False\n",
    "        Rs = 0\n",
    "        steps_this_episode = 0\n",
    "        curr_s = env.reset()\n",
    "        curr_s = tuple([*curr_s[0][\"agent\"], *curr_s[0][\"target\"] ])\n",
    "        while not done and steps_this_episode < episode_limit:\n",
    "        \n",
    "            s_, r, done, _,info = q_control.learn(curr_s, env, step_size)\n",
    "            a = q_control.last_action\n",
    "            \n",
    "            model[curr_s, a] = [r, s_]\n",
    "\n",
    "\n",
    "            observed_actions[curr_s].add(a)\n",
    "            observed_states.add(curr_s)\n",
    "            curr_s = s_\n",
    "            Rs+=r\n",
    "            steps_this_episode += 1\n",
    "                \n",
    "\n",
    "\n",
    "\n",
    "            for n in range(planning_steps):\n",
    "                states = list(observed_states)\n",
    "                \n",
    "                s = np.random.choice(np.arange(len(states)))\n",
    "                actions = list(observed_actions[states[s]])\n",
    "                \n",
    "                a = np.random.choice(actions)\n",
    "                \n",
    "\n",
    "                \n",
    "                \n",
    "                q_control.plan(states[s], model, step_size, a)\n",
    "\n",
    "        rewards.append(Rs)\n",
    "        steps.append(steps_this_episode)\n",
    "    return rewards, steps, q_control\n",
    "    "
   ]
  },
  {
   "cell_type": "code",
   "execution_count": null,
   "metadata": {},
   "outputs": [],
   "source": []
  },
  {
   "cell_type": "code",
   "execution_count": 416,
   "metadata": {
    "scrolled": true
   },
   "outputs": [
    {
     "name": "stdout",
     "output_type": "stream",
     "text": [
      "0\n",
      "50\n",
      "100\n",
      "150\n",
      "200\n",
      "250\n",
      "300\n",
      "350\n",
      "400\n",
      "450\n",
      "500\n",
      "550\n",
      "600\n",
      "650\n",
      "700\n",
      "750\n",
      "800\n",
      "850\n",
      "900\n",
      "950\n"
     ]
    }
   ],
   "source": [
    "rs0, steps0, qcontrol = dyna(QControl, env, 30, 2000, step_size=0.01, episode_limit=1000)"
   ]
  },
  {
   "cell_type": "code",
   "execution_count": 417,
   "metadata": {},
   "outputs": [],
   "source": [
    "import matplotlib.pyplot as plt"
   ]
  },
  {
   "cell_type": "code",
   "execution_count": 418,
   "metadata": {},
   "outputs": [
    {
     "data": {
      "text/plain": [
       "[<matplotlib.lines.Line2D at 0x1d36e6578e0>]"
      ]
     },
     "execution_count": 418,
     "metadata": {},
     "output_type": "execute_result"
    },
    {
     "data": {
      "image/png": "[encoded data removed]",
      "text/plain": [
       "<Figure size 432x288 with 1 Axes>"
      ]
     },
     "metadata": {
      "needs_background": "light"
     },
     "output_type": "display_data"
    }
   ],
   "source": [
    "plt.plot(steps0)"
   ]
  },
  {
   "cell_type": "code",
   "execution_count": 351,
   "metadata": {},
   "outputs": [],
   "source": [
    "\n",
    "model ={((4, 0, 4, 2), 0): [0, (4, 0, 4, 2)]}\n"
   ]
  },
  {
   "cell_type": "code",
   "execution_count": 352,
   "metadata": {},
   "outputs": [
    {
     "data": {
      "text/plain": [
       "[0, (4, 0, 4, 2)]"
      ]
     },
     "execution_count": 352,
     "metadata": {},
     "output_type": "execute_result"
    }
   ],
   "source": [
    "model[((4, 0, 4, 2), 0)]"
   ]
  },
  {
   "cell_type": "code",
   "execution_count": 383,
   "metadata": {},
   "outputs": [],
   "source": [
    "s = env.reset()"
   ]
  },
  {
   "cell_type": "code",
   "execution_count": 397,
   "metadata": {},
   "outputs": [],
   "source": [
    "def demo_policy(control, limit=30):\n",
    "    env.reset()\n",
    "#     out = env.render(mode=\"ansi\")\n",
    "    done = False\n",
    "    s = env.reset()\n",
    "    s = tuple([*s[0][\"agent\"], *s[0][\"target\"] ])\n",
    "    i = 0\n",
    "    while not done:\n",
    "        \n",
    "        s_, r, done, prop, _ = env.step(np.argmax(control.Q[s]))\n",
    "        \n",
    "        env.render()\n",
    "        s_ = tuple([*s_[\"agent\"], *s_[\"target\"] ])\n",
    "        s = s_\n",
    "        i+=1\n",
    "        if done:\n",
    "            print(\"congrats\")\n",
    "        if i >= limit:\n",
    "            done = True\n",
    "            "
   ]
  },
  {
   "cell_type": "code",
   "execution_count": 456,
   "metadata": {},
   "outputs": [],
   "source": [
    "control = QControl(env.nS, env.nA, eps=0.2, terminal=[], initializer=initializer)\n",
    "control.load_q_values(\"Q_Values_Grid_World.pkl\")"
   ]
  },
  {
   "cell_type": "code",
   "execution_count": 460,
   "metadata": {},
   "outputs": [
    {
     "name": "stdout",
     "output_type": "stream",
     "text": [
      "congrats\n"
     ]
    }
   ],
   "source": [
    "demo_policy(control)"
   ]
  },
  {
   "cell_type": "code",
   "execution_count": 436,
   "metadata": {},
   "outputs": [],
   "source": [
    "import pickle"
   ]
  },
  {
   "cell_type": "code",
   "execution_count": 439,
   "metadata": {},
   "outputs": [],
   "source": [
    "def save_q_values(Q):\n",
    "    with open(\"Q_Values_Grid_World.pkl\", \"wb\") as f:\n",
    "        pickle.dump(Q, f)\n",
    "    \n",
    "        \n",
    "    "
   ]
  },
  {
   "cell_type": "code",
   "execution_count": 440,
   "metadata": {},
   "outputs": [],
   "source": [
    "save_q_values(qcontrol.Q)"
   ]
  },
  {
   "cell_type": "code",
   "execution_count": 441,
   "metadata": {},
   "outputs": [],
   "source": [
    "!explorer .\n"
   ]
  },
  {
   "cell_type": "code",
   "execution_count": null,
   "metadata": {},
   "outputs": [],
   "source": []
  }
 ],
 "metadata": {
  "kernelspec": {
   "display_name": "Python 3",
   "language": "python",
   "name": "python3"
  },
  "language_info": {
   "codemirror_mode": {
    "name": "ipython",
    "version": 3
   },
   "file_extension": ".py",
   "mimetype": "text/x-python",
   "name": "python",
   "nbconvert_exporter": "python",
   "pygments_lexer": "ipython3",
   "version": "3.8.7"
  }
 },
 "nbformat": 4,
 "nbformat_minor": 4
}
