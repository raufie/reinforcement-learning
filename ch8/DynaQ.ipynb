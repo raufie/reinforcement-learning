{
 "cells": [
  {
   "cell_type": "code",
   "execution_count": 2,
   "metadata": {},
   "outputs": [],
   "source": [
    "import gym\n",
    "import numpy as np\n",
    "import time\n",
    "import os\n",
    "from IPython.display import display, clear_output\n",
    "import matplotlib.pyplot as plt"
   ]
  },
  {
   "cell_type": "code",
   "execution_count": 251,
   "metadata": {},
   "outputs": [],
   "source": [
    "class QControl:\n",
    "    def __init__(self, nS, nA, terminal=list(range(37,48)), eps=None, initializer=None):\n",
    "        self.Q = np.random.normal(0.5,0.25, (nS, nA) )\n",
    "\n",
    "        if initializer!=None:\n",
    "            self.Q = initializer(nS, nA)\n",
    "            \n",
    "        \n",
    "        for i in terminal:\n",
    "            self.Q[i] = np.array([0, 0, 0, 0])\n",
    "        \n",
    "        self.pi = np.random.randint(0, 4, (16, ), dtype=np.int8)\n",
    "        self.alpha = 0.2\n",
    "        self.gamma = 0.9\n",
    "        self.epsilon = eps\n",
    "        self.last_action = 0\n",
    "    \n",
    "    def policy(self, state, eps=None):\n",
    "        \n",
    "        if eps == None:\n",
    "            if self.epsilon != None:\n",
    "                eps = self.epsilon\n",
    "            else:\n",
    "                eps = 0.2\n",
    "        \n",
    "        \n",
    "        if np.random.random() >= eps:\n",
    "            return np.argmax(self.Q[state])\n",
    "        else:\n",
    "            return np.random.randint(0, 4)\n",
    "        \n",
    "    def learn(self, s, env, step_size, eps=None):\n",
    "        if eps == None:\n",
    "            if self.epsilon != None:\n",
    "                eps = self.epsilon\n",
    "            else:\n",
    "                eps = 0.2\n",
    "        a = self.policy(s, eps=eps)\n",
    "        s_, r, done, probs = env.step(a)\n",
    "        \n",
    "        self.Q[s,a] = self.Q[s,a] + step_size*(r + np.max(self.Q[s_]) - self.Q[s, a]   )\n",
    "        \n",
    "        self.last_action = a\n",
    "        \n",
    "        return s_, r, done, probs\n",
    "    \n",
    "    def plan(self, s, model, step_size,a,  eps=None):\n",
    "        \n",
    "                \n",
    "        r, s_ = model[s, a]\n",
    "        self.Q[s,a] = self.Q[s,a] + step_size*(r + np.max(self.Q[s_]) - self.Q[s, a]   )\n",
    "        self.last_action = a\n",
    "        return s_, r, False, _\n",
    "    \n"
   ]
  },
  {
   "cell_type": "markdown",
   "metadata": {},
   "source": [
    "# Dyna Q\n",
    "Dyna Q integrates learning and planning like all the dyna methods do...\n",
    "\n",
    "Direct RL is taking experience and doing learning (like Q Learning)\n",
    "Indirect RL is taking experience to improve the model and then do planning on it(Q Planning) \n"
   ]
  },
  {
   "cell_type": "code",
   "execution_count": 270,
   "metadata": {},
   "outputs": [],
   "source": [
    "def dyna(QControl, env, planning_steps, n_episodes,  step_size=0.5):\n",
    "    \n",
    "    q_control = QControl(env.nS, env.nA, eps=0.2)\n",
    "    model = {}\n",
    "    \n",
    "    observed_states = set({})\n",
    "    observed_actions = {s:set() for s in range(env.nS)}\n",
    "    curr_s = env.reset()\n",
    "    rewards = []\n",
    "    Rs= 0\n",
    "    steps = []\n",
    "    for i in range(n_episodes):\n",
    "        \n",
    "        done = False\n",
    "        Rs = 0\n",
    "        steps_this_episode = 0\n",
    "        curr_s = env.reset()\n",
    "        while not done:\n",
    "        \n",
    "            s_, r, done, _ = q_control.learn(curr_s, env, step_size)\n",
    "            a = q_control.last_action\n",
    "\n",
    "            \n",
    "            model[curr_s, a] = [r, s_]\n",
    "\n",
    "\n",
    "            observed_actions[curr_s].add(a)\n",
    "            observed_states.add(curr_s)\n",
    "            curr_s = s_\n",
    "            Rs+=r\n",
    "            steps_this_episode += 1\n",
    "                \n",
    "\n",
    "\n",
    "\n",
    "            for n in range(planning_steps):\n",
    "                \n",
    "                s = np.random.choice(list(observed_states))\n",
    "                a = np.random.choice(list(observed_actions[s]))\n",
    "\n",
    "                \n",
    "\n",
    "                q_control.plan(s, model, step_size, a)\n",
    "\n",
    "        rewards.append(Rs)\n",
    "        steps.append(steps_this_episode)\n",
    "    return rewards, steps, q_control"
   ]
  },
  {
   "cell_type": "code",
   "execution_count": null,
   "metadata": {},
   "outputs": [],
   "source": [
    "\n"
   ]
  },
  {
   "cell_type": "code",
   "execution_count": 281,
   "metadata": {},
   "outputs": [],
   "source": [
    "rs0, steps0, qcontrol = dyna(QControl, env, 0, 50, step_size=0.1)\n",
    "rs1, steps1, qcontrol = dyna(QControl, env, 1, 50, step_size=0.1)\n",
    "rs2, steps2, qcontrol = dyna(QControl, env, 5, 50, step_size=0.1)\n",
    "rs3, steps3, qcontrol = dyna(QControl, env, 15, 50, step_size=0.1)"
   ]
  },
  {
   "cell_type": "code",
   "execution_count": 282,
   "metadata": {},
   "outputs": [],
   "source": [
    "def get_moving_avg(arr, window_size=10):\n",
    "    M = [arr[0]]\n",
    "    for i in range(1, len(arr)-window_size):\n",
    "        M.append(np.mean(arr[i:min(i+window_size, len(arr)-1)]))\n",
    "    return M\n",
    "    "
   ]
  },
  {
   "cell_type": "code",
   "execution_count": 284,
   "metadata": {},
   "outputs": [
    {
     "data": {
      "text/plain": [
       "<matplotlib.legend.Legend at 0x236d0752fd0>"
      ]
     },
     "execution_count": 284,
     "metadata": {},
     "output_type": "execute_result"
    },
    {
     "data": {
      "image/png": "[encoded data removed]",
      "text/plain": [
       "<Figure size 864x504 with 1 Axes>"
      ]
     },
     "metadata": {
      "needs_background": "light"
     },
     "output_type": "display_data"
    }
   ],
   "source": [
    "plt.figure(figsize=(12,7))\n",
    "plt.plot(steps0, label=\"planning steps = 0 (only q learning)\")\n",
    "plt.plot(steps1, label=\"planning steps = 1\")\n",
    "plt.plot(steps2, label=\"planning steps = 5\")\n",
    "plt.plot(steps3, label=\"planning steps = 15\")\n",
    "plt.legend()\n"
   ]
  },
  {
   "cell_type": "code",
   "execution_count": 264,
   "metadata": {
    "scrolled": true
   },
   "outputs": [
    {
     "data": {
      "text/plain": [
       "[<matplotlib.lines.Line2D at 0x236d04c3700>]"
      ]
     },
     "execution_count": 264,
     "metadata": {},
     "output_type": "execute_result"
    },
    {
     "data": {
      "image/png": "[encoded data removed]",
      "text/plain": [
       "<Figure size 432x288 with 1 Axes>"
      ]
     },
     "metadata": {
      "needs_background": "light"
     },
     "output_type": "display_data"
    }
   ],
   "source": [
    "plt.plot(rs1)"
   ]
  },
  {
   "cell_type": "code",
   "execution_count": 246,
   "metadata": {},
   "outputs": [],
   "source": [
    "def demo_policy(control, limit=30):\n",
    "    env.reset()\n",
    "    out = env.render(mode=\"ansi\")\n",
    "    done = False\n",
    "    s = env.reset()\n",
    "    i = 0\n",
    "    while not done:\n",
    "        \n",
    "        s_, r, done, prop = env.step(np.argmax(control.Q[s]))\n",
    "        time.sleep(0.5)\n",
    "        clear_output()\n",
    "        print(env.render())\n",
    "        s = s_\n",
    "        i+=1\n",
    "        if i >= limit:\n",
    "            done = True\n",
    "    "
   ]
  },
  {
   "cell_type": "code",
   "execution_count": 280,
   "metadata": {},
   "outputs": [
    {
     "name": "stdout",
     "output_type": "stream",
     "text": [
      "o  o  o  o  o  o  o  o  o  o  o  o\n",
      "o  o  o  o  o  o  o  o  o  o  o  o\n",
      "o  o  o  o  o  o  o  o  o  o  o  o\n",
      "o  C  C  C  C  C  C  C  C  C  C  x\n",
      "\n",
      "None\n"
     ]
    }
   ],
   "source": [
    "demo_policy(qcontrol, limit=250)"
   ]
  },
  {
   "cell_type": "code",
   "execution_count": 88,
   "metadata": {},
   "outputs": [],
   "source": [
    "env = gym.make('CliffWalking-v0')"
   ]
  },
  {
   "cell_type": "code",
   "execution_count": 6,
   "metadata": {},
   "outputs": [
    {
     "data": {
      "text/plain": [
       "(24, -1, False, {'prob': 1.0})"
      ]
     },
     "execution_count": 6,
     "metadata": {},
     "output_type": "execute_result"
    }
   ],
   "source": [
    "env.step(0)"
   ]
  },
  {
   "cell_type": "code",
   "execution_count": 7,
   "metadata": {},
   "outputs": [
    {
     "data": {
      "text/plain": [
       "{'render.modes': ['human', 'ansi']}"
      ]
     },
     "execution_count": 7,
     "metadata": {},
     "output_type": "execute_result"
    }
   ],
   "source": [
    "env.metadata"
   ]
  },
  {
   "cell_type": "code",
   "execution_count": 132,
   "metadata": {},
   "outputs": [],
   "source": [
    "model = np.random.random((env.nS, env.nA, 2)).astype(np.dtype([('x', float), ('y', int)]))\n",
    "\n",
    "model[:,:,0] = np.random.randint(0, env.nS,(env.nS, env.nA) )\n",
    "model[:,:,1] = np.random.random((env.nS, env.nA) )"
   ]
  },
  {
   "cell_type": "code",
   "execution_count": 133,
   "metadata": {},
   "outputs": [
    {
     "data": {
      "text/plain": [
       "array([[(0.06015012, 0), (0.09751299, 0), (0.61436325, 0),\n",
       "        (0.88016994, 0)],\n",
       "       [(0.16764226, 0), (0.2064565 , 0), (0.61650511, 0),\n",
       "        (0.05782926, 0)],\n",
       "       [(0.3668788 , 0), (0.59866257, 0), (0.96892208, 0),\n",
       "        (0.53348143, 0)],\n",
       "       [(0.8313402 , 0), (0.72333717, 0), (0.1981491 , 0),\n",
       "        (0.68838324, 0)],\n",
       "       [(0.96106941, 0), (0.88414592, 0), (0.95019117, 0),\n",
       "        (0.9903116 , 0)],\n",
       "       [(0.3769527 , 0), (0.20041199, 0), (0.02562082, 0),\n",
       "        (0.52444962, 0)],\n",
       "       [(0.71052155, 0), (0.66384095, 0), (0.14666606, 0),\n",
       "        (0.09413269, 0)],\n",
       "       [(0.3629262 , 0), (0.52927297, 0), (0.01436678, 0),\n",
       "        (0.91878062, 0)],\n",
       "       [(0.50874789, 0), (0.52303235, 0), (0.91661161, 0),\n",
       "        (0.48394367, 0)],\n",
       "       [(0.98221695, 0), (0.06724482, 0), (0.11726499, 0),\n",
       "        (0.74635937, 0)],\n",
       "       [(0.3373713 , 0), (0.20045801, 0), (0.38962178, 0),\n",
       "        (0.34751078, 0)],\n",
       "       [(0.15647284, 0), (0.19873056, 0), (0.57174067, 0),\n",
       "        (0.48129573, 0)],\n",
       "       [(0.60574324, 0), (0.12341803, 0), (0.93313584, 0),\n",
       "        (0.45468694, 0)],\n",
       "       [(0.83379631, 0), (0.52701364, 0), (0.23875141, 0),\n",
       "        (0.98944468, 0)],\n",
       "       [(0.5810186 , 0), (0.57776853, 0), (0.98347057, 0),\n",
       "        (0.23286313, 0)],\n",
       "       [(0.27480527, 0), (0.9490804 , 0), (0.12403523, 0),\n",
       "        (0.6499986 , 0)],\n",
       "       [(0.28340688, 0), (0.37323687, 0), (0.910462  , 0),\n",
       "        (0.9330097 , 0)],\n",
       "       [(0.5244857 , 0), (0.2366562 , 0), (0.80348973, 0),\n",
       "        (0.33193053, 0)],\n",
       "       [(0.03455659, 0), (0.89351361, 0), (0.30851663, 0),\n",
       "        (0.88709804, 0)],\n",
       "       [(0.30133047, 0), (0.23741878, 0), (0.48975312, 0),\n",
       "        (0.38585994, 0)],\n",
       "       [(0.51457691, 0), (0.16932074, 0), (0.39669347, 0),\n",
       "        (0.87819373, 0)],\n",
       "       [(0.3604743 , 0), (0.23032627, 0), (0.48101293, 0),\n",
       "        (0.41544155, 0)],\n",
       "       [(0.05249391, 0), (0.97465597, 0), (0.65610604, 0),\n",
       "        (0.63898137, 0)],\n",
       "       [(0.98170584, 0), (0.66499359, 0), (0.39726402, 0),\n",
       "        (0.96754596, 0)],\n",
       "       [(0.02729511, 0), (0.95420579, 0), (0.3922143 , 0),\n",
       "        (0.48221633, 0)],\n",
       "       [(0.71967313, 0), (0.13911488, 0), (0.4002116 , 0),\n",
       "        (0.46945764, 0)],\n",
       "       [(0.01339816, 0), (0.91427443, 0), (0.28585688, 0),\n",
       "        (0.2735316 , 0)],\n",
       "       [(0.93164881, 0), (0.55708358, 0), (0.46096847, 0),\n",
       "        (0.30948235, 0)],\n",
       "       [(0.51562293, 0), (0.47330651, 0), (0.98923835, 0),\n",
       "        (0.30007603, 0)],\n",
       "       [(0.23482972, 0), (0.35837286, 0), (0.98518849, 0),\n",
       "        (0.66019444, 0)],\n",
       "       [(0.43282008, 0), (0.87263384, 0), (0.79906046, 0),\n",
       "        (0.17676213, 0)],\n",
       "       [(0.31119019, 0), (0.97319208, 0), (0.29396091, 0),\n",
       "        (0.72362809, 0)],\n",
       "       [(0.09117645, 0), (0.67783103, 0), (0.62352881, 0),\n",
       "        (0.06481842, 0)],\n",
       "       [(0.87793013, 0), (0.43267983, 0), (0.86934574, 0),\n",
       "        (0.42378026, 0)],\n",
       "       [(0.0496886 , 0), (0.07344923, 0), (0.13506656, 0),\n",
       "        (0.17353093, 0)],\n",
       "       [(0.26258945, 0), (0.72849281, 0), (0.07515649, 0),\n",
       "        (0.06206648, 0)],\n",
       "       [(0.53236035, 0), (0.55888024, 0), (0.28401908, 0),\n",
       "        (0.46784565, 0)],\n",
       "       [(0.01864471, 0), (0.21809749, 0), (0.36621628, 0),\n",
       "        (0.87283449, 0)],\n",
       "       [(0.05715233, 0), (0.39520648, 0), (0.66427919, 0),\n",
       "        (0.86703016, 0)],\n",
       "       [(0.08908758, 0), (0.64830839, 0), (0.80518625, 0),\n",
       "        (0.1948961 , 0)],\n",
       "       [(0.12065357, 0), (0.67138369, 0), (0.75272389, 0),\n",
       "        (0.07075529, 0)],\n",
       "       [(0.71683445, 0), (0.60519085, 0), (0.30098846, 0),\n",
       "        (0.53268259, 0)],\n",
       "       [(0.8039629 , 0), (0.69992376, 0), (0.76281621, 0),\n",
       "        (0.90547984, 0)],\n",
       "       [(0.69658913, 0), (0.29936844, 0), (0.04308522, 0),\n",
       "        (0.06643148, 0)],\n",
       "       [(0.34812897, 0), (0.89376699, 0), (0.8270998 , 0),\n",
       "        (0.15446968, 0)],\n",
       "       [(0.05378223, 0), (0.19282892, 0), (0.08919286, 0),\n",
       "        (0.66043726, 0)],\n",
       "       [(0.98825209, 0), (0.39968623, 0), (0.56262734, 0),\n",
       "        (0.09292339, 0)],\n",
       "       [(0.69599527, 0), (0.34144987, 0), (0.71971418, 0),\n",
       "        (0.26731985, 0)]], dtype=[('x', '<f8'), ('y', '<i4')])"
      ]
     },
     "execution_count": 133,
     "metadata": {},
     "output_type": "execute_result"
    }
   ],
   "source": [
    "model[:,:,1]"
   ]
  },
  {
   "cell_type": "code",
   "execution_count": 50,
   "metadata": {},
   "outputs": [],
   "source": [
    "s = set()"
   ]
  },
  {
   "cell_type": "code",
   "execution_count": 52,
   "metadata": {},
   "outputs": [],
   "source": [
    "s.add(23)"
   ]
  },
  {
   "cell_type": "code",
   "execution_count": 60,
   "metadata": {},
   "outputs": [
    {
     "data": {
      "text/plain": [
       "23"
      ]
     },
     "execution_count": 60,
     "metadata": {},
     "output_type": "execute_result"
    }
   ],
   "source": [
    "np.random.choice(list(s))"
   ]
  },
  {
   "cell_type": "code",
   "execution_count": 117,
   "metadata": {},
   "outputs": [
    {
     "data": {
      "text/plain": [
       "(12, -1, False, {'prob': 1.0})"
      ]
     },
     "execution_count": 117,
     "metadata": {},
     "output_type": "execute_result"
    }
   ],
   "source": [
    "env.step(0)"
   ]
  },
  {
   "cell_type": "code",
   "execution_count": 131,
   "metadata": {},
   "outputs": [
    {
     "ename": "TypeError",
     "evalue": "only size-1 arrays can be converted to Python scalars",
     "output_type": "error",
     "traceback": [
      "\u001b[1;31m---------------------------------------------------------------------------\u001b[0m",
      "\u001b[1;31mTypeError\u001b[0m                                 Traceback (most recent call last)",
      "\u001b[1;32m<ipython-input-131-1f0c6ef528e3>\u001b[0m in \u001b[0;36m<module>\u001b[1;34m\u001b[0m\n\u001b[1;32m----> 1\u001b[1;33m \u001b[0mint\u001b[0m\u001b[1;33m(\u001b[0m\u001b[0mnp\u001b[0m\u001b[1;33m.\u001b[0m\u001b[0mones\u001b[0m\u001b[1;33m(\u001b[0m\u001b[1;33m(\u001b[0m\u001b[0menv\u001b[0m\u001b[1;33m.\u001b[0m\u001b[0mnS\u001b[0m\u001b[1;33m,\u001b[0m \u001b[0menv\u001b[0m\u001b[1;33m.\u001b[0m\u001b[0mnA\u001b[0m\u001b[1;33m,\u001b[0m \u001b[1;36m2\u001b[0m\u001b[1;33m)\u001b[0m\u001b[1;33m)\u001b[0m\u001b[1;33m)\u001b[0m\u001b[1;33m\u001b[0m\u001b[1;33m\u001b[0m\u001b[0m\n\u001b[0m",
      "\u001b[1;31mTypeError\u001b[0m: only size-1 arrays can be converted to Python scalars"
     ]
    }
   ],
   "source": [
    "int(np.ones((env.nS, env.nA, 2)))"
   ]
  },
  {
   "cell_type": "code",
   "execution_count": 288,
   "metadata": {},
   "outputs": [
    {
     "data": {
      "text/plain": [
       "Discrete(48)"
      ]
     },
     "execution_count": 288,
     "metadata": {},
     "output_type": "execute_result"
    }
   ],
   "source": [
    "env.observation_space"
   ]
  },
  {
   "cell_type": "code",
   "execution_count": null,
   "metadata": {},
   "outputs": [],
   "source": []
  }
 ],
 "metadata": {
  "kernelspec": {
   "display_name": "Python 3",
   "language": "python",
   "name": "python3"
  },
  "language_info": {
   "codemirror_mode": {
    "name": "ipython",
    "version": 3
   },
   "file_extension": ".py",
   "mimetype": "text/x-python",
   "name": "python",
   "nbconvert_exporter": "python",
   "pygments_lexer": "ipython3",
   "version": "3.8.7"
  }
 },
 "nbformat": 4,
 "nbformat_minor": 4
}
