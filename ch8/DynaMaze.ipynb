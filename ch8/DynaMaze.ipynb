{
 "cells": [
  {
   "cell_type": "code",
   "execution_count": 1,
   "metadata": {},
   "outputs": [
    {
     "name": "stdout",
     "output_type": "stream",
     "text": [
      "pygame 2.0.2 (SDL 2.0.16, Python 3.8.7)\n",
      "Hello from the pygame community. https://www.pygame.org/contribute.html\n"
     ]
    }
   ],
   "source": [
    "import gym\n",
    "from gym import spaces\n",
    "import pygame\n",
    "import numpy as np\n",
    "import time\n",
    "from tqdm import tqdm\n",
    "import matplotlib.pyplot as plt"
   ]
  },
  {
   "cell_type": "code",
   "execution_count": 2,
   "metadata": {},
   "outputs": [],
   "source": [
    "BLOCKS_PATTERN1 = set({\n",
    "    (3, 0),\n",
    "    (3, 1),\n",
    "    (3, 2),\n",
    "    (3, 3),\n",
    "    (3, 4),\n",
    "    (3, 5),\n",
    "    (3, 6),\n",
    "    (3, 7),\n",
    "    \n",
    "})\n",
    "\n",
    "BLOCKS_PATTERN2 = set({\n",
    "\n",
    "    \n",
    "    (3, 1),\n",
    "    (3, 2),\n",
    "    (3, 3),\n",
    "    (3, 4),\n",
    "    (3, 5),\n",
    "    (3, 6),\n",
    "    (3, 7),\n",
    "    (3, 8)\n",
    "    \n",
    "})\n"
   ]
  },
  {
   "cell_type": "code",
   "execution_count": 3,
   "metadata": {},
   "outputs": [],
   "source": [
    "class MazeEnv(gym.Env):\n",
    "    metadata = {\"render_modes\": [\"human\", \"rgb_array\"], \"render_fps\":4}\n",
    "    def __init__(self, render_mode=None, size=(7,9), start=(0,4), goal=(6,8), blocks=BLOCKS_PATTERN1):\n",
    "        \n",
    "        \n",
    "        self.start = np.array(start)\n",
    "        self.goal = np.array(goal)\n",
    "        self.blocks = blocks\n",
    "        \n",
    "        self.size = size\n",
    "        \n",
    "        \n",
    "        self.window_size = ((1024/7)*9, 1024)\n",
    "        \n",
    "        \n",
    "\n",
    "\n",
    "        self.observation_space = spaces.Tuple((spaces.Box(low=0, high = size[0] - 1, shape=(1,), dtype=int), \n",
    "                                               spaces.Box(low=0, high = size[1] - 1, shape=(1,), dtype=int)))\n",
    "\n",
    "\n",
    "        \n",
    "        self.action_space = spaces.Discrete(4)\n",
    "        self.nS = 2* (size[0]*size[1])\n",
    "        self.nA = 4\n",
    "\n",
    "        # up, right, down, left (arangement distribution (nth row, nth col) rather than representational (x,y))\n",
    "        self._action_to_direction = {\n",
    "            0: np.array([1,0]),\n",
    "            1: np.array([0,1]),\n",
    "            2: np.array([-1,0]),\n",
    "            3: np.array([0,-1]),\n",
    "        }\n",
    "        \n",
    "        assert render_mode is None or render_mode in self.metadata[\"render_modes\"]\n",
    "        self.render_mode = render_mode\n",
    "        self.window = None\n",
    "        self.clock = None\n",
    "\n",
    "        self.agent_image = pygame.image.load(\"r2d2.png\") \n",
    "        self.agent_image = pygame.transform.scale(self.agent_image, (self.window_size[0]/size[1],self.window_size[1]/size[0]))\n",
    "        self.agent_rect = self.agent_image.get_rect()\n",
    "    \n",
    "        \n",
    "        self.cheeze_image = pygame.image.load(\"cheeze.png\") \n",
    "        self.cheeze_image = pygame.transform.scale(self.cheeze_image, (self.window_size[0]/size[1],self.window_size[1]/size[0]))\n",
    "        self.cheeze_rect = self.cheeze_image.get_rect()\n",
    "        \n",
    "    \n",
    "    def _get_obs(self):\n",
    "\n",
    "        return self._agent_location\n",
    "    \n",
    "    def _get_info(self):\n",
    "\n",
    "        return {\"distance\": np.linalg.norm(self._agent_location - self.goal, ord=1)}\n",
    "    \n",
    "    def reset(self, seed = None, options = None):\n",
    "\n",
    "    \n",
    "        self._agent_location = self.start\n",
    "                   \n",
    "        observation = self._get_obs()\n",
    "        info = self._get_info()\n",
    "        \n",
    "        if self.render_mode == \"human\":\n",
    "            self._render_frame()\n",
    "            \n",
    "        return observation, info\n",
    "    \n",
    "    def step(self, action):\n",
    "        direction = self._action_to_direction[action]\n",
    "        \n",
    "        \n",
    "        \n",
    "        new_position = np.clip(\n",
    "        self._agent_location + direction, (0, 0) , (self.size[0]-1, self.size[1]-1) )\n",
    "        \n",
    "        is_blocked = tuple(new_position) in self.blocks\n",
    "        \n",
    "        self._agent_location = new_position if not is_blocked else self._agent_location \n",
    "        \n",
    "        terminated = np.array_equal(self._agent_location, self.goal)\n",
    "        \n",
    "#         rewards are sparse (u get 1 when u reach target else u get 0), its called binary sparse rewards lol\n",
    "\n",
    "        reward = 1 if terminated else 0\n",
    "    \n",
    "        observation = self._get_obs()\n",
    "        \n",
    "        info = self._get_info()\n",
    "        \n",
    "        if self.render_mode == \"human\":\n",
    "            self._render_frame()\n",
    "        \n",
    "        return observation, reward, terminated,False, info\n",
    "    \n",
    "    def render(self):\n",
    "        if self.render_mode ==\"rgb_array\":\n",
    "            return self._render_frame()\n",
    "    \n",
    "    def _get_pixel_point(self, coord):\n",
    "        \n",
    "        n_rows = self.size[0]\n",
    "        n_cols = self.size[1]\n",
    "        y = coord[0]\n",
    "        x = coord[1]\n",
    "        W = self.window_size[0]/n_cols\n",
    "        H = self.window_size[1]/n_rows\n",
    "\n",
    "        d_from_top = (n_rows- 1-y)*H\n",
    "        d_from_left = (x)*W\n",
    "        \n",
    "        return (d_from_left, d_from_top)\n",
    "\n",
    "  \n",
    "\n",
    "    def _render_frame(self):\n",
    "        if self.window is None and self.render_mode == \"human\":\n",
    "            pygame.init()\n",
    "            pygame.display.init()\n",
    "            self.window = pygame.display.set_mode(self.window_size)\n",
    "        if self.clock is None and self.render_mode == \"human\":\n",
    "            self.clock = pygame.time.Clock()\n",
    "\n",
    "        canvas = pygame.Surface(self.window_size)\n",
    "        canvas.fill((255, 255, 255))\n",
    "        \n",
    "        # pixel_size = width X Height == (size[1], size[0]) == ncols , nrows\n",
    "        pix_square_size = ( self.window_size[0] / self.size[1], self.window_size[1] / self.size[0])\n",
    "        \n",
    "\n",
    "        # First we draw the goal\n",
    "        # px=self._get_pixel_point(self.goal)\n",
    "        # pygame.draw.rect(\n",
    "        #     canvas,\n",
    "        #     (0, 70, 255),\n",
    "        #     pygame.Rect(\n",
    "\n",
    "        #         px,\n",
    "        #         (pix_square_size[0], pix_square_size[1]),\n",
    "        #     ),\n",
    "        # )\n",
    "        # Now we draw the agent\n",
    "        self.agent_rect.x , self.agent_rect.y = self._get_pixel_point(self._agent_location)\n",
    "        self.cheeze_rect.x,self.cheeze_rect.y = self._get_pixel_point(self.goal)\n",
    "\n",
    "        # horizontal lines\n",
    "        for x in range(self.size[1] + 1):\n",
    "            pygame.draw.line(\n",
    "                canvas,\n",
    "                0,\n",
    "                (0, pix_square_size[1] * x),\n",
    "                (self.window_size[0], pix_square_size[1] * x),\n",
    "                width=3,\n",
    "            )\n",
    "        # vertical lines\n",
    "        for x in range(self.size[1] + 1):\n",
    "            pygame.draw.line(\n",
    "                canvas,\n",
    "                0,\n",
    "                (pix_square_size[1] * x, 0),\n",
    "                (pix_square_size[1] * x, self.window_size[1]),\n",
    "                width=3,\n",
    "            )\n",
    "        \n",
    "        images=[]\n",
    "        image_rects = []\n",
    "\n",
    "        for x,y in self.blocks:\n",
    "            wall_image = pygame.image.load(\"wall.png\") \n",
    "            wall_image = pygame.transform.scale(wall_image, (self.window_size[0]/self.size[1],self.window_size[1]/self.size[0]))\n",
    "            wall_rect= wall_image.get_rect()\n",
    "            wall_rect.x , wall_rect.y = self._get_pixel_point((x,y))\n",
    "            canvas.blit(wall_image, wall_rect)\n",
    "\n",
    "        canvas.blit(self.agent_image, self.agent_rect)\n",
    "        canvas.blit(self.cheeze_image, self.cheeze_rect)\n",
    "\n",
    "        if self.render_mode == \"human\":\n",
    "            # The following line copies our drawings from `canvas` to the visible window\n",
    "            self.window.blit(canvas, canvas.get_rect())\n",
    "            pygame.event.pump()\n",
    "            pygame.display.update()\n",
    "\n",
    "            # We need to ensure that human-rendering occurs at the predefined framerate.\n",
    "            # The following line will automatically add a delay to keep the framerate stable.\n",
    "            self.clock.tick(self.metadata[\"render_fps\"])\n",
    "        else:  # rgb_array\n",
    "            return np.transpose(\n",
    "                np.array(pygame.surfarray.pixels3d(canvas)), axes=(1, 0, 2)\n",
    "            )\n",
    "\n",
    "\n"
   ]
  },
  {
   "cell_type": "code",
   "execution_count": 4,
   "metadata": {},
   "outputs": [],
   "source": [
    "env_first = MazeEnv(blocks = BLOCKS_PATTERN1, start=(0,3))\n",
    "env_second = MazeEnv(blocks = BLOCKS_PATTERN2,start=(0,3))"
   ]
  },
  {
   "cell_type": "code",
   "execution_count": null,
   "metadata": {},
   "outputs": [],
   "source": []
  },
  {
   "cell_type": "markdown",
   "metadata": {},
   "source": [
    "# Dyna Q"
   ]
  },
  {
   "cell_type": "code",
   "execution_count": 5,
   "metadata": {},
   "outputs": [],
   "source": [
    "def initialize_times(nS, nA):\n",
    "#     \n",
    "    indices = np.indices((7,9))\n",
    "    keys = np.stack(indices, axis=-1).reshape((-1,2))\n",
    "#     Q = {tuple(key): np.random.normal(0.5, 0.25, (nA,)) for key in keys}\n",
    "    Q = {tuple(key): np.zeros((nA, )) for key in keys}\n",
    "    \n",
    "    \n",
    "    return Q"
   ]
  },
  {
   "cell_type": "code",
   "execution_count": 6,
   "metadata": {},
   "outputs": [],
   "source": [
    "def initializer(nS, nA):\n",
    "#     \n",
    "    indices = np.indices((7,9))\n",
    "    keys = np.stack(indices, axis=-1).reshape((-1,2))\n",
    "#     Q = {tuple(key): np.random.normal(0.5, 0.25, (nA,)) for key in keys}\n",
    "    Q = {tuple(key): np.zeros((nA,)) for key in keys}\n",
    "    Q[(6,8)] = np.zeros((nA,))\n",
    "    return Q"
   ]
  },
  {
   "cell_type": "code",
   "execution_count": 7,
   "metadata": {},
   "outputs": [],
   "source": [
    "class QControl:\n",
    "    def __init__(self, nS, nA, terminal=list((6,8)), eps=None, initializer=None, gamma = 1.0):\n",
    "        self.Q = np.random.normal(0.5,0.25, (nS, nA) )\n",
    "\n",
    "        \n",
    "        if initializer!=None:\n",
    "            self.Q = initializer(nS, nA)\n",
    "        \n",
    "        \n",
    "        for i in terminal:\n",
    "            self.Q[i] = np.array([0, 0])\n",
    "        \n",
    "        self.pi = np.random.randint(0, 4, (16, ), dtype=np.int8)\n",
    "        self.alpha = 0.2\n",
    "        self.gamma = gamma\n",
    "        self.epsilon = eps\n",
    "        self.last_action = 0\n",
    "    \n",
    "    def policy(self, state, eps=None):\n",
    "        \n",
    "        if eps == None:\n",
    "            if self.epsilon != None:\n",
    "                eps = self.epsilon\n",
    "            else:\n",
    "                eps = 0.2\n",
    "        \n",
    "        \n",
    "        if np.random.random() >= eps:\n",
    "            return np.argmax(self.Q[state])\n",
    "        else:\n",
    "            return np.random.randint(0, 4)\n",
    "        \n",
    "    def learn(self, s, env, step_size, eps=None):\n",
    "        if eps == None:\n",
    "            if self.epsilon != None:\n",
    "                eps = self.epsilon\n",
    "            else:\n",
    "                eps = 0.1\n",
    "        a = self.policy(s, eps=eps)\n",
    "        s_, r, done, _, info = env.step(a)\n",
    "        \n",
    "        s_ = tuple(s_)\n",
    "        self.Q[s][a] = self.Q[s][a] + step_size*(r + self.gamma*np.max(self.Q[s_]) - self.Q[s][a] )\n",
    "        \n",
    "        self.last_action = a\n",
    "        \n",
    "        return s_, r, done,_, info\n",
    "    \n",
    "    def plan(self, s, model, step_size,a,  eps=None):\n",
    "        \n",
    "                \n",
    "        r, s_ = model[(s,a)]\n",
    "        self.Q[s][a] = self.Q[s][a] + step_size*(r + self.gamma*np.max(self.Q[s_]) - self.Q[s][a]   )\n",
    "        self.last_action = a\n",
    "        return s_, r, False, {}\n",
    "    \n",
    "    def load_q_values(self, file_location):\n",
    "        f = open(file_location, \"rb\")\n",
    "        self.Q = pickle.load(f)"
   ]
  },
  {
   "cell_type": "code",
   "execution_count": 8,
   "metadata": {},
   "outputs": [],
   "source": [
    "def dynaQTest(QControl, env,env2, planning_steps,  step_size=0.5, episode_limit = 500, Q = None, eps = 0.2, gamma = 0.95):\n",
    "#     \n",
    "    q_control = QControl(env.nS, env.nA, eps=eps, terminal=[], initializer=initializer, gamma = gamma)\n",
    "    model = {}\n",
    "    \n",
    "    Times = initialize_times(env.nS, env.nA)\n",
    "    \n",
    "    if Q is not None:\n",
    "        q_control.Q = Q\n",
    "    \n",
    "    observed_states = set({})\n",
    "    \n",
    "    indices = np.indices((7,9))\n",
    "    keys = np.stack(indices, axis=-1).reshape((-1,2))\n",
    "\n",
    "    observed_actions = {tuple(key):set() for key in keys}\n",
    "    curr_s = env.reset()[0]\n",
    "    \n",
    "    cum = []\n",
    "    cum_r = 0\n",
    "    \n",
    "    rewards = []\n",
    "    Rs= 0\n",
    "    \n",
    "    \n",
    "    done = False\n",
    "    curr_s = tuple(env.reset()[0])\n",
    "\n",
    "    for t in range(episode_limit):\n",
    "\n",
    "        if done:\n",
    "            env.reset()\n",
    "            done = False\n",
    "        s_, r, done, _,info = q_control.learn(curr_s, env, step_size)\n",
    "        \n",
    "        s_ = tuple(s_)\n",
    "        a = q_control.last_action\n",
    "        Times[curr_s][a] = t\n",
    "        \n",
    "        model[curr_s, a] = [r, s_]\n",
    "\n",
    "\n",
    "        observed_actions[curr_s].add(a)\n",
    "        observed_states.add(curr_s)\n",
    "        curr_s = s_\n",
    "        Rs+=r\n",
    "        cum_r+=r\n",
    "\n",
    "        cum.append(cum_r)\n",
    "        \n",
    "\n",
    "\n",
    "\n",
    "\n",
    "        for n in range(planning_steps):\n",
    "            states = list(observed_states)\n",
    "            s = np.random.choice(np.arange(len(states)))\n",
    "            actions = list(observed_actions[states[s]])\n",
    "\n",
    "            a = np.random.choice(actions)\n",
    "\n",
    "\n",
    "\n",
    "            \n",
    "            q_control.plan(states[s], model, step_size, a)\n",
    "        \n",
    "        rewards.append(Rs)\n",
    "        if t == 1000:\n",
    "            env.blocks = env_second.blocks\n",
    "    return rewards, q_control, cum, Times\n",
    "\n",
    "    "
   ]
  },
  {
   "cell_type": "code",
   "execution_count": 9,
   "metadata": {},
   "outputs": [
    {
     "ename": "NameError",
     "evalue": "name 'qcontrol' is not defined",
     "output_type": "error",
     "traceback": [
      "\u001b[1;31m---------------------------------------------------------------------------\u001b[0m",
      "\u001b[1;31mNameError\u001b[0m                                 Traceback (most recent call last)",
      "\u001b[1;32m<ipython-input-9-fd3c21a429ed>\u001b[0m in \u001b[0;36m<module>\u001b[1;34m\u001b[0m\n\u001b[1;32m----> 1\u001b[1;33m \u001b[0mqcontrol\u001b[0m\u001b[1;33m.\u001b[0m\u001b[0mQ\u001b[0m \u001b[1;32mis\u001b[0m \u001b[1;32mNone\u001b[0m\u001b[1;33m\u001b[0m\u001b[1;33m\u001b[0m\u001b[0m\n\u001b[0m",
      "\u001b[1;31mNameError\u001b[0m: name 'qcontrol' is not defined"
     ]
    }
   ],
   "source": [
    "qcontrol.Q is None"
   ]
  },
  {
   "cell_type": "code",
   "execution_count": 1180,
   "metadata": {
    "scrolled": false
   },
   "outputs": [
    {
     "name": "stderr",
     "output_type": "stream",
     "text": [
      "100%|████████████████████████████████████████████████████████████████████████████████████| 15/15 [01:47<00:00,  7.18s/it]\n"
     ]
    }
   ],
   "source": [
    "accumulated_avg = []\n",
    "for i in tqdm(range(15)):\n",
    "    rs0, qcontrol, cum0, Times = dynaQTest(QControl, env_first,env_second, 100, step_size=0.1, episode_limit=3000, eps=0.1, gamma = 0.95)\n",
    "    accumulated_avg.append(cum0)\n",
    "                          "
   ]
  },
  {
   "cell_type": "code",
   "execution_count": 1181,
   "metadata": {},
   "outputs": [],
   "source": [
    "accumulated_avg = list(np.mean(accumulated_avg, axis=0))"
   ]
  },
  {
   "cell_type": "code",
   "execution_count": 1182,
   "metadata": {},
   "outputs": [
    {
     "data": {
      "text/plain": [
       "[<matplotlib.lines.Line2D at 0x165c9182070>]"
      ]
     },
     "execution_count": 1182,
     "metadata": {},
     "output_type": "execute_result"
    },
    {
     "data": {
      "image/png": "[encoded data removed]",
      "text/plain": [
       "<Figure size 432x288 with 1 Axes>"
      ]
     },
     "metadata": {
      "needs_background": "light"
     },
     "output_type": "display_data"
    }
   ],
   "source": [
    "plt.plot(accumulated_avg)\n"
   ]
  },
  {
   "cell_type": "code",
   "execution_count": 1109,
   "metadata": {},
   "outputs": [],
   "source": [
    "save(qcontrol.Q, name=\"DynaQ_before _change.pkl\")\n",
    "save(qcontrol_1.Q, name=\"DynaQ_after_change.pkl\")"
   ]
  },
  {
   "cell_type": "code",
   "execution_count": null,
   "metadata": {},
   "outputs": [],
   "source": [
    "def load(s):\n",
    "    with open(s, \"rb\") as f:\n",
    "        return pickle.load(f)\n",
    "    return None"
   ]
  },
  {
   "cell_type": "code",
   "execution_count": 231,
   "metadata": {},
   "outputs": [],
   "source": [
    "def demo_policy(control, limit=30):\n",
    "    env.reset()\n",
    "#     out = env.render(mode=\"ansi\")\n",
    "    done = False\n",
    "    s = env.reset()\n",
    "    s = tuple([*s[0][\"agent\"], *s[0][\"target\"] ])\n",
    "    i = 0\n",
    "    while not done:\n",
    "        \n",
    "        s_, r, done, prop, _ = env.step(np.argmax(control.Q[s]))\n",
    "        \n",
    "        env.render()\n",
    "        s_ = tuple([*s_[\"agent\"], *s_[\"target\"] ])\n",
    "        s = s_\n",
    "        i+=1\n",
    "        if done:\n",
    "            print(\"congrats\")\n",
    "        if i >= limit:\n",
    "            done = True\n",
    "            "
   ]
  },
  {
   "cell_type": "code",
   "execution_count": 439,
   "metadata": {},
   "outputs": [],
   "source": [
    "import pickle\n",
    "def save(Q, name=\"DynaQ_blocks1.pkl\"):\n",
    "    with open(name, \"wb\") as f:\n",
    "        pickle.dump(Q, f)"
   ]
  },
  {
   "cell_type": "code",
   "execution_count": 333,
   "metadata": {},
   "outputs": [],
   "source": [
    "with open(\"dynaQ_2.pkl\", \"wb\") as f:\n",
    "        pickle.dump(qcontrol.Q, f)"
   ]
  },
  {
   "cell_type": "code",
   "execution_count": 331,
   "metadata": {},
   "outputs": [
    {
     "name": "stdout",
     "output_type": "stream",
     "text": [
      "'name=DynaQ_blocks1_2.pkl)' was not found in history, as a file, url, nor in the user namespace.\n"
     ]
    }
   ],
   "source": [
    "save(qcontrol.Q, name=\"DynaQ_blocks1_2.pkl\")\n"
   ]
  },
  {
   "cell_type": "markdown",
   "metadata": {},
   "source": [
    "# DynaQ+"
   ]
  },
  {
   "cell_type": "code",
   "execution_count": 1183,
   "metadata": {},
   "outputs": [],
   "source": [
    "def dynaQPlusTest(QControl, env, env2, planning_steps,  step_size=0.5, episode_limit = 500, Q = None, eps = 0.2, k = 0.1, gamma = 0.95):\n",
    "#     \n",
    "    q_control = QControl(env.nS, env.nA, eps=eps, terminal=[], initializer=initializer, gamma = gamma)\n",
    "    model = {}\n",
    "    \n",
    "    Times = initialize_times(env.nS, env.nA)\n",
    "    \n",
    "    if Q is not None:\n",
    "        q_control.Q = Q\n",
    "    \n",
    "    observed_states = set({})\n",
    "    \n",
    "    indices = np.indices((7,9))\n",
    "    keys = np.stack(indices, axis=-1).reshape((-1,2))\n",
    "\n",
    "    observed_actions = {tuple(key):set() for key in keys}\n",
    "    curr_s = env.reset()[0]\n",
    "    \n",
    "    cum = []\n",
    "    cum_r = 0\n",
    "    \n",
    "    rewards = []\n",
    "    Rs= 0\n",
    "    \n",
    "    \n",
    "    done = False\n",
    "    curr_s = tuple(env.reset()[0])\n",
    "\n",
    "    for t in range(episode_limit):\n",
    "\n",
    "        if done:\n",
    "            env.reset()\n",
    "            done = False\n",
    "        s_, r, done, _,info = q_control.learn(curr_s, env, step_size)\n",
    "        \n",
    "        s_ = tuple(s_)\n",
    "        a = q_control.last_action\n",
    "        Times[curr_s][a] = t\n",
    "        \n",
    "        model[curr_s, a] = [r, s_]\n",
    "\n",
    "\n",
    "        observed_actions[curr_s].add(a)\n",
    "        observed_states.add(curr_s)\n",
    "        curr_s = s_\n",
    "        Rs+=r\n",
    "        cum_r+=r\n",
    "\n",
    "        cum.append(cum_r)\n",
    "        \n",
    "\n",
    "\n",
    "\n",
    "\n",
    "        for n in range(planning_steps):\n",
    "            states = list(observed_states)\n",
    "\n",
    "            s = np.random.choice(np.arange(len(states)))\n",
    "            actions = list(observed_actions[states[s]])\n",
    "\n",
    "            a = np.random.choice(actions)\n",
    "            \n",
    "                \n",
    "            \n",
    "            q_control.plan(states[s], model, step_size, a)\n",
    "            a_ = q_control.last_action\n",
    "#             Tau = time elapsed since the last time s,a was used in learning\n",
    "            Tau = t - Times[states[s]][a]\n",
    "            \n",
    "            q_control.Q[states[s]][a] += np.sqrt(Tau)*k\n",
    "        \n",
    "            \n",
    "\n",
    "        rewards.append(Rs)\n",
    "        \n",
    "        if t == 1000:\n",
    "            env.blocks = env2.blocks\n",
    "    return rewards, q_control, cum, Times\n",
    "\n",
    "    "
   ]
  },
  {
   "cell_type": "code",
   "execution_count": 1184,
   "metadata": {
    "scrolled": true
   },
   "outputs": [
    {
     "name": "stderr",
     "output_type": "stream",
     "text": [
      "100%|████████████████████████████████████████████████████████████████████████████████████| 15/15 [02:03<00:00,  8.24s/it]\n"
     ]
    }
   ],
   "source": [
    "k = 0.0003\n",
    "accumulated_avg_plus_0 = []\n",
    "Times = []\n",
    "for i in tqdm(range(15)):\n",
    "    \n",
    "    rs_plus_0, qcontrol_plus_0, cum_plus_0, Times_plus_0 = dynaQPlusTest(QControl, env_first,env_second, 100, step_size=0.1, episode_limit=3000, eps=0.1, k = k, gamma =0.95)\n",
    "    accumulated_avg_plus_0.append(cum_plus_0)\n",
    "    Times.append(Times_plus_0)\n",
    "accumulated_avg_plus_0 = list(np.mean(accumulated_avg_plus_0, axis=0))\n"
   ]
  },
  {
   "cell_type": "code",
   "execution_count": 1112,
   "metadata": {},
   "outputs": [],
   "source": [
    "save(qcontrol_plus_0.Q, name=\"DynaQ+_before_change.pkl\")\n",
    "save(qcontrol_plus_1.Q, name=\"DynaQ+_after_change.pkl\")"
   ]
  },
  {
   "cell_type": "code",
   "execution_count": 1185,
   "metadata": {},
   "outputs": [
    {
     "data": {
      "text/plain": [
       "<matplotlib.legend.Legend at 0x165c91e1a30>"
      ]
     },
     "execution_count": 1185,
     "metadata": {},
     "output_type": "execute_result"
    },
    {
     "data": {
      "image/png": "[encoded data removed]",
      "text/plain": [
       "<Figure size 432x288 with 1 Axes>"
      ]
     },
     "metadata": {
      "needs_background": "light"
     },
     "output_type": "display_data"
    }
   ],
   "source": [
    "plt.plot(accumulated_avg , label=\"DYNA-Q\")\n",
    "plt.plot(accumulated_avg_plus_0 , label=\"DYNA-Q+\")\n",
    "plt.legend()"
   ]
  },
  {
   "cell_type": "markdown",
   "metadata": {},
   "source": [
    "# Shortcut maze"
   ]
  },
  {
   "cell_type": "code",
   "execution_count": 10,
   "metadata": {},
   "outputs": [],
   "source": [
    "SHORTCUT_PATTERN_1 = set({\n",
    "    \n",
    "    (3, 1),\n",
    "    (3, 2),\n",
    "    (3, 3),\n",
    "    (3, 4),\n",
    "    (3, 5),\n",
    "    (3, 6),\n",
    "    (3, 7),\n",
    "    (3,8)\n",
    "    \n",
    "})\n",
    "\n",
    "SHORTCUT_PATTERN_2 = set({\n",
    "\n",
    "    (3, 1),\n",
    "    (3, 2),\n",
    "    (3, 3),\n",
    "    (3, 4),\n",
    "    (3, 5),\n",
    "    (3, 6),\n",
    "    (3, 7),\n",
    "    \n",
    "})"
   ]
  },
  {
   "cell_type": "code",
   "execution_count": 273,
   "metadata": {},
   "outputs": [],
   "source": [
    "env_s1 = MazeEnv(blocks = SHORTCUT_PATTERN_1, start=(0,3))\n",
    "env_s2 = MazeEnv(blocks = SHORTCUT_PATTERN_2,start=(0,3))"
   ]
  },
  {
   "cell_type": "code",
   "execution_count": 1160,
   "metadata": {},
   "outputs": [],
   "source": [
    "def dynaQTest2(QControl, env, env2, planning_steps,  step_size=0.5, episode_limit = 6000, Q = None, eps = 0.2, gamma = 0.95):\n",
    "#     \n",
    "    q_control = QControl(env.nS, env.nA, eps=eps, terminal=[], initializer=initializer, gamma = gamma)\n",
    "    model = {}\n",
    "    \n",
    "    Times = initialize_times(env.nS, env.nA)\n",
    "    \n",
    "    if Q is not None:\n",
    "        q_control.Q = Q\n",
    "    \n",
    "    observed_states = set({})\n",
    "    \n",
    "    indices = np.indices((7,9))\n",
    "    keys = np.stack(indices, axis=-1).reshape((-1,2))\n",
    "\n",
    "    observed_actions = {tuple(key):set() for key in keys}\n",
    "    curr_s = env.reset()[0]\n",
    "    \n",
    "    cum = []\n",
    "    cum_r = 0\n",
    "    \n",
    "    rewards = []\n",
    "    Rs= 0\n",
    "    \n",
    "    \n",
    "    done = False\n",
    "    curr_s = tuple(env.reset()[0])\n",
    "\n",
    "    for t in range(episode_limit):\n",
    "\n",
    "        if done:\n",
    "            env.reset()\n",
    "            done = False\n",
    "        s_, r, done, _,info = q_control.learn(curr_s, env, step_size)\n",
    "        \n",
    "        s_ = tuple(s_)\n",
    "        a = q_control.last_action\n",
    "        Times[curr_s][a] = t\n",
    "        \n",
    "        model[curr_s, a] = [r, s_]\n",
    "\n",
    "\n",
    "        observed_actions[curr_s].add(a)\n",
    "        observed_states.add(curr_s)\n",
    "        curr_s = s_\n",
    "        Rs+=r\n",
    "        cum_r+=r\n",
    "\n",
    "        cum.append(cum_r)\n",
    "        \n",
    "\n",
    "\n",
    "\n",
    "\n",
    "        for n in range(planning_steps):\n",
    "            states = list(observed_states)\n",
    "            s = np.random.choice(np.arange(len(states)))\n",
    "            actions = list(observed_actions[states[s]])\n",
    "\n",
    "            a = np.random.choice(actions)\n",
    "\n",
    "\n",
    "\n",
    "            \n",
    "            q_control.plan(states[s], model, step_size, a)\n",
    "        \n",
    "        \n",
    "        rewards.append(Rs)\n",
    "        \n",
    "        if t == 3000:\n",
    "            env = env2\n",
    "            env.blocks = env2.blocks\n",
    "            \n",
    "    return rewards, q_control, cum, Times\n",
    "\n",
    "    "
   ]
  },
  {
   "cell_type": "code",
   "execution_count": 1154,
   "metadata": {},
   "outputs": [],
   "source": [
    "def dynaQPlusTest2(QControl, env,env2, planning_steps,  step_size=0.5, episode_limit = 500, Q = None, eps = 0.2, k = 0.1, gamma = 0.95):\n",
    "#     \n",
    "    q_control = QControl(env.nS, env.nA, eps=eps, terminal=[], initializer=initializer, gamma = gamma)\n",
    "    model = {}\n",
    "    \n",
    "    Times = initialize_times(env.nS, env.nA)\n",
    "    \n",
    "    if Q is not None:\n",
    "        q_control.Q = Q\n",
    "    \n",
    "    observed_states = set({})\n",
    "    \n",
    "    indices = np.indices((7,9))\n",
    "    keys = np.stack(indices, axis=-1).reshape((-1,2))\n",
    "\n",
    "    observed_actions = {tuple(key):set() for key in keys}\n",
    "    curr_s = env.reset()[0]\n",
    "    \n",
    "    cum = []\n",
    "    cum_r = 0\n",
    "    \n",
    "    rewards = []\n",
    "    Rs= 0\n",
    "    \n",
    "    \n",
    "    done = False\n",
    "    curr_s = tuple(env.reset()[0])\n",
    "\n",
    "    for t in range(episode_limit):\n",
    "\n",
    "        if done:\n",
    "            env.reset()\n",
    "            done = False\n",
    "        s_, r, done, _,info = q_control.learn(curr_s, env, step_size)\n",
    "        \n",
    "        s_ = tuple(s_)\n",
    "        a = q_control.last_action\n",
    "        Times[curr_s][a] = t\n",
    "        \n",
    "        model[curr_s, a] = [r, s_]\n",
    "\n",
    "\n",
    "        observed_actions[curr_s].add(a)\n",
    "        observed_states.add(curr_s)\n",
    "        curr_s = s_\n",
    "        Rs+=r\n",
    "        cum_r+=r\n",
    "\n",
    "        cum.append(cum_r)\n",
    "        \n",
    "\n",
    "\n",
    "\n",
    "\n",
    "        for n in range(planning_steps):\n",
    "            states = list(observed_states)\n",
    "\n",
    "            s = np.random.choice(np.arange(len(states)))\n",
    "            actions = list(observed_actions[states[s]])\n",
    "\n",
    "            a = np.random.choice(actions)\n",
    "            \n",
    "                \n",
    "            \n",
    "            q_control.plan(states[s], model, step_size, a)\n",
    "            a_ = q_control.last_action\n",
    "#             Tau = time elapsed since the last time s,a was used in learning\n",
    "            Tau = t - Times[states[s]][a]\n",
    "            \n",
    "            q_control.Q[states[s]][a] += np.sqrt(Tau)*k\n",
    "            \n",
    "        \n",
    "\n",
    "        rewards.append(Rs)\n",
    "        \n",
    "        if t == 3000:\n",
    "            env.blocks = env2.blocks\n",
    "    return rewards, q_control, cum, Times\n",
    "\n",
    "    "
   ]
  },
  {
   "cell_type": "markdown",
   "metadata": {},
   "source": [
    "# dynaQ"
   ]
  },
  {
   "cell_type": "code",
   "execution_count": 1161,
   "metadata": {},
   "outputs": [
    {
     "name": "stderr",
     "output_type": "stream",
     "text": [
      "100%|████████████████████████████████████████████████████████████████████████████████████| 15/15 [03:23<00:00, 13.60s/it]\n"
     ]
    }
   ],
   "source": [
    "\n",
    "accumulated_shortcut_0 = []\n",
    "Times = []\n",
    "for i in tqdm(range(15)):\n",
    "    \n",
    "    rs_0_, qcontrol_0_, cum_0_, Times_0_ = dynaQTest2(QControl, env_s1,env_s2,100, step_size=0.1, episode_limit=6000, eps=0.1, gamma =0.95)\n",
    "    \n",
    "    accumulated_shortcut_0.append(cum_0_)\n",
    "    Times.append(Times_0_)\n",
    "accumulated_shortcut_0 = list(np.mean(accumulated_shortcut_0, axis=0))\n",
    "\n",
    "# 2nd env\n",
    "q_control_short_before = qcontrol_0_\n",
    "\n"
   ]
  },
  {
   "cell_type": "code",
   "execution_count": 1156,
   "metadata": {},
   "outputs": [],
   "source": [
    "save(q_control_short_before.Q, name=\"DynaQ_shortcut_before.pkl\")\n",
    "save(q_control_short_after.Q, name=\"DynaQ_shortcut_after.pkl\")"
   ]
  },
  {
   "cell_type": "code",
   "execution_count": 1162,
   "metadata": {},
   "outputs": [
    {
     "data": {
      "text/plain": [
       "[<matplotlib.lines.Line2D at 0x165c7f33790>]"
      ]
     },
     "execution_count": 1162,
     "metadata": {},
     "output_type": "execute_result"
    },
    {
     "data": {
      "image/png": "[encoded data removed]",
      "text/plain": [
       "<Figure size 432x288 with 1 Axes>"
      ]
     },
     "metadata": {
      "needs_background": "light"
     },
     "output_type": "display_data"
    }
   ],
   "source": [
    "plt.plot(accumulated_shortcut_0)"
   ]
  },
  {
   "cell_type": "markdown",
   "metadata": {},
   "source": [
    "# dynaQ+"
   ]
  },
  {
   "cell_type": "code",
   "execution_count": 1175,
   "metadata": {},
   "outputs": [
    {
     "name": "stderr",
     "output_type": "stream",
     "text": [
      "100%|████████████████████████████████████████████████████████████████████████████████████| 15/15 [06:34<00:00, 26.28s/it]\n"
     ]
    }
   ],
   "source": [
    "k = 0.0003\n",
    "accumulated_shortcut_1 = []\n",
    "Times = []\n",
    "for i in tqdm(range(15)):\n",
    "    \n",
    "    rs_1_, qcontrol_1_, cum_1_, Times_1_ = dynaQPlusTest2(QControl, env_s1,env_s2,100, step_size=0.1, episode_limit=6000, eps=0.1, gamma =0.95, k=k)\n",
    "    \n",
    "    accumulated_shortcut_1.append(cum_1_)\n",
    "    Times.append(Times_1_)\n",
    "accumulated_shortcut_1 = list(np.mean(accumulated_shortcut_1, axis=0))\n",
    "\n",
    "# 2nd env\n",
    "q_control_short_plus = qcontrol_1_\n",
    "\n"
   ]
  },
  {
   "cell_type": "code",
   "execution_count": 1177,
   "metadata": {},
   "outputs": [
    {
     "data": {
      "text/plain": [
       "[<matplotlib.lines.Line2D at 0x165c9142370>]"
      ]
     },
     "execution_count": 1177,
     "metadata": {},
     "output_type": "execute_result"
    },
    {
     "data": {
      "image/png": "[encoded data removed]",
      "text/plain": [
       "<Figure size 432x288 with 1 Axes>"
      ]
     },
     "metadata": {
      "needs_background": "light"
     },
     "output_type": "display_data"
    }
   ],
   "source": [
    "plt.plot(accumulated_shortcut_0)\n",
    "plt.plot(accumulated_shortcut_1)"
   ]
  },
  {
   "cell_type": "code",
   "execution_count": 1178,
   "metadata": {},
   "outputs": [],
   "source": [
    "save(qcontrol_0_.Q, name=\"DynaQ_shortcut_plus.pkl\")\n",
    "save(qcontrol_1_.Q, name=\"DynaQ+_shortcut_plus.pkl\")"
   ]
  },
  {
   "cell_type": "code",
   "execution_count": 1128,
   "metadata": {},
   "outputs": [
    {
     "data": {
      "text/plain": [
       "<matplotlib.legend.Legend at 0x165c1b510a0>"
      ]
     },
     "execution_count": 1128,
     "metadata": {},
     "output_type": "execute_result"
    },
    {
     "data": {
      "image/png": "[encoded data removed]",
      "text/plain": [
       "<Figure size 432x288 with 1 Axes>"
      ]
     },
     "metadata": {
      "needs_background": "light"
     },
     "output_type": "display_data"
    }
   ],
   "source": [
    "plt.plot(accumulated_shortcut_0+list( np.array(accumulated_shortcut_1)+accumulated_shortcut_0[-1]) , label=\"DYNA-Q\")\n",
    "plt.plot(accumulated_shortcut_plus_0+list( np.array(accumulated_shortcut_plus_1)+accumulated_shortcut_plus_0[-1]) , label=\"DYNA-Q+\")\n",
    "plt.legend()"
   ]
  },
  {
   "cell_type": "markdown",
   "metadata": {},
   "source": [
    "# Playing around with times"
   ]
  },
  {
   "cell_type": "code",
   "execution_count": 977,
   "metadata": {},
   "outputs": [],
   "source": [
    "images = []\n",
    "for i in range(len(Times)):\n",
    "    img = np.zeros( (7,9))\n",
    "    max_val = np.max(list(Times[i].values()))\n",
    "    for state in Times[i]:\n",
    "\n",
    "        img[state[0], state[1]] = sum(Times[i][state])/len(Times)\n",
    "\n",
    "    images.append(img)"
   ]
  },
  {
   "cell_type": "code",
   "execution_count": 978,
   "metadata": {},
   "outputs": [
    {
     "data": {
      "text/plain": [
       "<matplotlib.image.AxesImage at 0x165bdae98b0>"
      ]
     },
     "execution_count": 978,
     "metadata": {},
     "output_type": "execute_result"
    },
    {
     "data": {
      "image/png": "[encoded data removed]",
      "text/plain": [
       "<Figure size 432x288 with 1 Axes>"
      ]
     },
     "metadata": {
      "needs_background": "light"
     },
     "output_type": "display_data"
    }
   ],
   "source": [
    "plt.imshow(images[1])"
   ]
  },
  {
   "cell_type": "code",
   "execution_count": 979,
   "metadata": {},
   "outputs": [],
   "source": [
    "from matplotlib import animation"
   ]
  },
  {
   "cell_type": "code",
   "execution_count": 980,
   "metadata": {},
   "outputs": [
    {
     "data": {
      "image/png": "[encoded data removed]",
      "text/plain": [
       "<Figure size 432x288 with 1 Axes>"
      ]
     },
     "metadata": {
      "needs_background": "light"
     },
     "output_type": "display_data"
    }
   ],
   "source": [
    "fig, ax = plt.subplots()\n",
    "\n",
    "def update(i):\n",
    "    ax.imshow(images[i], cmap=\"gray\")  # Set image for current frame\n",
    "    ax.axis('off')  # Hide axis\n",
    "\n",
    "# Create animation object\n",
    "ani = animation.FuncAnimation(fig, update, frames=len(images), interval=50)\n",
    "\n",
    "# Save animation as video file\n",
    "ani.save('my_video.mp4', writer='ffmpeg')"
   ]
  },
  {
   "cell_type": "markdown",
   "metadata": {},
   "source": [
    "# Prioritized Sweeping"
   ]
  },
  {
   "cell_type": "code",
   "execution_count": 981,
   "metadata": {},
   "outputs": [],
   "source": [
    "!explorer .\n"
   ]
  },
  {
   "cell_type": "code",
   "execution_count": 415,
   "metadata": {},
   "outputs": [],
   "source": [
    "def dynaQBasic(QControl, env, planning_steps,  step_size=0.5, episode_limit = 500, Q = None, eps = 0.2, gamma = 0.95):\n",
    "#     \n",
    "    EVALUATION_RECORD = [False]*(10)\n",
    "    eval_stats = []\n",
    "    \n",
    "    q_control = QControl(env.nS, env.nA, eps=eps, terminal=[], initializer=initializer, gamma = gamma)\n",
    "    model = {}\n",
    "    \n",
    "    Times = initialize_times(env.nS, env.nA)\n",
    "    \n",
    "    if Q is not None:\n",
    "        q_control.Q = Q\n",
    "    \n",
    "    observed_states = set({})\n",
    "    \n",
    "    indices = np.indices((7,9))\n",
    "    keys = np.stack(indices, axis=-1).reshape((-1,2))\n",
    "\n",
    "    observed_actions = {tuple(key):set() for key in keys}\n",
    "    curr_s = env.reset()[0]\n",
    "    \n",
    "    cum = []\n",
    "    cum_r = 0\n",
    "    \n",
    "    rewards = []\n",
    "    Rs= 0\n",
    "    \n",
    "    \n",
    "    done = False\n",
    "    curr_s = tuple(env.reset()[0])\n",
    "    \n",
    "    reached_optimality = False\n",
    "    n_updates = True\n",
    "    \n",
    "    for t in range(episode_limit):\n",
    "\n",
    "        if done:\n",
    "            env.reset()\n",
    "            done = False\n",
    "        s_, r, done, _,info = q_control.learn(curr_s, env, step_size)\n",
    "        \n",
    "        s_ = tuple(s_)\n",
    "        a = q_control.last_action\n",
    "        Times[curr_s][a] = t\n",
    "        \n",
    "        model[curr_s, a] = [r, s_]\n",
    "\n",
    "\n",
    "        observed_actions[curr_s].add(a)\n",
    "        observed_states.add(curr_s)\n",
    "        curr_s = s_\n",
    "        Rs+=r\n",
    "        cum_r+=r\n",
    "        \n",
    "        if not reached_optimality:\n",
    "                n_updates +=1\n",
    "        \n",
    "        cum.append(cum_r)\n",
    "        \n",
    "        for n in range(planning_steps):\n",
    "            states = list(observed_states)\n",
    "            s = np.random.choice(np.arange(len(states)))\n",
    "            actions = list(observed_actions[states[s]])\n",
    "\n",
    "            a = np.random.choice(actions)\n",
    "            \n",
    "            q_control.plan(states[s], model, step_size, a)\n",
    "            \n",
    "            if not reached_optimality:\n",
    "                n_updates +=1\n",
    "        rewards.append(Rs)\n",
    "        \n",
    "        EVALUATION_RECORD[t%10]=evaluate(env_e, q_control.Q)\n",
    "        eval_stats.append(np.array(EVALUATION_RECORD).all() == True)\n",
    "        if eval_stats[-1] == True and reached_optimality == False:\n",
    "            reached_optimality = True\n",
    "            \n",
    "    return rewards, q_control, cum, Times, eval_stats, n_updates\n",
    "\n",
    "    "
   ]
  },
  {
   "cell_type": "code",
   "execution_count": 416,
   "metadata": {},
   "outputs": [],
   "source": [
    "import queue"
   ]
  },
  {
   "cell_type": "code",
   "execution_count": 433,
   "metadata": {},
   "outputs": [],
   "source": [
    "def PrioritizedSweeping(QControl, env, planning_steps,  step_size=0.5, episode_limit = 500, Q = None, eps = 0.2, gamma = 0.95, thres= 0.25):\n",
    "#     priority sweeping with E-greedy policy\n",
    "    EVALUATION_RECORD = [False]*(10)\n",
    "    eval_stats = []\n",
    "    \n",
    "    HASH_TO_STATE= {}\n",
    "    \n",
    "    q_control = QControl(env.nS, env.nA, eps=eps, terminal=[], initializer=initializer, gamma = gamma)\n",
    "    model = {}\n",
    "    PQueue = queue.PriorityQueue()\n",
    "    Times = initialize_times(env.nS, env.nA)\n",
    "    \n",
    "    if Q is not None:\n",
    "        q_control.Q = Q\n",
    "    \n",
    "    observed_states = set({})\n",
    "    \n",
    "    indices = np.indices((7,9))\n",
    "    keys = np.stack(indices, axis=-1).reshape((-1,2))\n",
    "\n",
    "    observed_actions = {tuple(key):set() for key in keys}\n",
    "    curr_s = env.reset()[0]\n",
    "    \n",
    "    cum = []\n",
    "    cum_r = 0\n",
    "    \n",
    "    rewards = []\n",
    "    Rs= 0\n",
    "    \n",
    "    \n",
    "    done = False\n",
    "    curr_s = tuple(env.reset()[0])\n",
    "    \n",
    "    n_updates = 0\n",
    "    reached_optimality = False\n",
    "    for t in range(episode_limit):\n",
    "        \n",
    "        if done:\n",
    "            env.reset()\n",
    "            done = False\n",
    "        s_, r, done, _,info = q_control.learn(curr_s, env, step_size)\n",
    "        \n",
    "        s_ = tuple(s_)\n",
    "        a = q_control.last_action\n",
    "        Times[curr_s][a] = t\n",
    "        \n",
    "        model[curr_s, a] = [r, s_]\n",
    "        HASH_TO_STATE[hash((curr_s, a))] = (curr_s, a)\n",
    "        \n",
    "        P = abs(r + q_control.gamma*np.max(q_control.Q[s_]) - q_control.Q[curr_s][a])\n",
    "        \n",
    "        if P > thres:\n",
    "            PQueue.put( (P, hash((curr_s, a))))\n",
    "                       \n",
    "        observed_actions[curr_s].add(a)\n",
    "        observed_states.add(curr_s)\n",
    "        curr_s = s_\n",
    "        Rs+=r\n",
    "        cum_r+=r\n",
    "\n",
    "        cum.append(cum_r)\n",
    "        if not reached_optimality:\n",
    "            n_updates +=1\n",
    "        \n",
    "        while not PQueue.empty():\n",
    "            p, hash_ = PQueue.get()\n",
    "            s,a = HASH_TO_STATE[hash_]\n",
    "            q_control.plan(s, model, step_size, a)\n",
    "#             all the values that lead to s\n",
    "            PREDECESSORS = []\n",
    "            for key in model:\n",
    "                if model[key][1] == s:\n",
    "                       PREDECESSORS.append(key)\n",
    "                        \n",
    "            for s__, a__ in PREDECESSORS:\n",
    "                R_, _ = model[s__, a__]\n",
    "                P = abs(R_ + q_control.gamma*np.max(q_control.Q[s]) - q_control.Q[s__][a__])\n",
    "                if P > thres:\n",
    "                    PQueue.put( (P, hash((s__, a__))))\n",
    "#                     THERE IS AN ISSUE HERE THAT I DIDNT SOLVE CUZ IM LAZY\n",
    "#                     IF YOURE READING, MAKE SURE TO REPLACE THE queue item if it already exists with new priority\n",
    "# Perhaps you'll have to make a new custom class\n",
    "            if not reached_optimality:\n",
    "                n_updates +=1\n",
    "                \n",
    "        rewards.append(Rs)\n",
    "        \n",
    "        EVALUATION_RECORD[t%10]=evaluate(env_e, q_control.Q)\n",
    "        \n",
    "        eval_stats.append(np.array(EVALUATION_RECORD).all() == True)\n",
    "        \n",
    "        if eval_stats[-1] == True and reached_optimality == False:\n",
    "            reached_optimality = True\n",
    "    return rewards, q_control, cum, Times, eval_stats, n_updates\n"
   ]
  },
  {
   "cell_type": "code",
   "execution_count": 436,
   "metadata": {},
   "outputs": [
    {
     "name": "stderr",
     "output_type": "stream",
     "text": [
      "100%|████████████████████████████████████████████████████████████████████████████████████| 20/20 [01:28<00:00,  4.42s/it]\n"
     ]
    }
   ],
   "source": [
    "avg_rs_p = []\n",
    "avg_rs = []\n",
    "updates_p = []\n",
    "updates = []\n",
    "for i in tqdm(range(20)):\n",
    "    rs_p, qcontrol_p, cum_p, Times_p , evals_p, updates_p_i= PrioritizedSweeping(QControl, env_s1,10, step_size=0.5, episode_limit=2000, eps=0.1, gamma =0.95, thres=0.075)\n",
    "    \n",
    "    rs, qcontrol, cum, Times, evals, updates_i = dynaQBasic(QControl, env_s1,10, step_size=0.5, episode_limit=2000, eps=0.1, gamma =0.95)\n",
    "    \n",
    "    updates_p.append(updates_p_i)\n",
    "    updates.append(updates_i)\n",
    "    \n",
    "    avg_rs.append(rs)\n",
    "    avg_rs_p.append(rs_p)\n",
    "\n",
    "avg_p = np.mean(avg_rs_p, axis=0)\n",
    "avg = np.mean(avg_rs, axis=0)"
   ]
  },
  {
   "cell_type": "code",
   "execution_count": 419,
   "metadata": {},
   "outputs": [
    {
     "data": {
      "text/plain": [
       "False"
      ]
     },
     "execution_count": 419,
     "metadata": {},
     "output_type": "execute_result"
    }
   ],
   "source": [
    "evals[-1]"
   ]
  },
  {
   "cell_type": "code",
   "execution_count": 437,
   "metadata": {
    "scrolled": true
   },
   "outputs": [
    {
     "data": {
      "text/plain": [
       "<matplotlib.legend.Legend at 0x28ceec04490>"
      ]
     },
     "execution_count": 437,
     "metadata": {},
     "output_type": "execute_result"
    },
    {
     "data": {
      "image/png": "[encoded data removed]",
      "text/plain": [
       "<Figure size 432x288 with 1 Axes>"
      ]
     },
     "metadata": {
      "needs_background": "light"
     },
     "output_type": "display_data"
    }
   ],
   "source": [
    "# plt.plot(avg_p, label=\"prioritized sweeping\", color=\"blue\")\n",
    "# plt.plot(avg, label=\"dynaQ\", color=\"orange\")\n",
    "\n",
    "plt.plot(updates_p, label=\"prioritized sweeping\")\n",
    "plt.plot(updates, label=\"dynaQ\")\n",
    "plt.title(\"number of updates to reach sub-optimality\")\n",
    "plt.legend()\n"
   ]
  },
  {
   "cell_type": "code",
   "execution_count": 378,
   "metadata": {},
   "outputs": [
    {
     "data": {
      "text/plain": [
       "<matplotlib.legend.Legend at 0x28cdda87520>"
      ]
     },
     "execution_count": 378,
     "metadata": {},
     "output_type": "execute_result"
    },
    {
     "data": {
      "image/png": "[encoded data removed]",
      "text/plain": [
       "<Figure size 432x288 with 1 Axes>"
      ]
     },
     "metadata": {
      "needs_background": "light"
     },
     "output_type": "display_data"
    }
   ],
   "source": [
    "plt.plot(evals_p, label=\"prioritized sweeping\")\n",
    "plt.plot(evals, label=\"dynaQ\")\n",
    "plt.legend()\n"
   ]
  },
  {
   "cell_type": "code",
   "execution_count": 279,
   "metadata": {},
   "outputs": [],
   "source": [
    "env_e = MazeEnv(blocks = SHORTCUT_PATTERN_1, start=(0,3))"
   ]
  },
  {
   "cell_type": "code",
   "execution_count": 414,
   "metadata": {},
   "outputs": [
    {
     "data": {
      "text/plain": [
       "True"
      ]
     },
     "execution_count": 414,
     "metadata": {},
     "output_type": "execute_result"
    }
   ],
   "source": [
    "evaluate(env_e, qcontrol.Q, limit=17)"
   ]
  },
  {
   "cell_type": "code",
   "execution_count": 409,
   "metadata": {},
   "outputs": [],
   "source": [
    "def evaluate(env_, Q, limit = 20):\n",
    "    state = tuple(env_.reset()[0])\n",
    "    for i in range(limit):\n",
    "\n",
    "        state, r,done,_,_ = env_.step(np.argmax(Q[state]))\n",
    "        state= tuple(state)\n",
    "        \n",
    "        if done:\n",
    "            return True\n",
    "        \n",
    "    return False\n",
    "        \n",
    "    "
   ]
  },
  {
   "cell_type": "code",
   "execution_count": 247,
   "metadata": {
    "scrolled": true
   },
   "outputs": [],
   "source": [
    "def compare(item1, item2):\n",
    "    return item1[0] < item2[0]\n",
    "\n",
    "\n",
    "q = queue.PriorityQueue()\n"
   ]
  },
  {
   "cell_type": "code",
   "execution_count": 46,
   "metadata": {},
   "outputs": [
    {
     "data": {
      "text/plain": [
       "<function hash(obj, /)>"
      ]
     },
     "execution_count": 46,
     "metadata": {},
     "output_type": "execute_result"
    }
   ],
   "source": [
    "hash"
   ]
  },
  {
   "cell_type": "code",
   "execution_count": 47,
   "metadata": {},
   "outputs": [],
   "source": [
    "a = (1,2)\n",
    "b = (3,54)\n",
    "c = (5,3)"
   ]
  },
  {
   "cell_type": "code",
   "execution_count": 49,
   "metadata": {},
   "outputs": [],
   "source": [
    "HASH_TO_STATE = {\n",
    "    \n",
    "}"
   ]
  },
  {
   "cell_type": "code",
   "execution_count": 50,
   "metadata": {},
   "outputs": [],
   "source": [
    "HASH_TO_STATE[hash(a)] = a\n",
    "HASH_TO_STATE[hash(b)] = b"
   ]
  },
  {
   "cell_type": "code",
   "execution_count": 73,
   "metadata": {},
   "outputs": [],
   "source": [
    "q.put((1, \"Jones\"))"
   ]
  },
  {
   "cell_type": "code",
   "execution_count": 422,
   "metadata": {},
   "outputs": [],
   "source": [
    "q.put( (0.9999999999, hash(b)) )"
   ]
  },
  {
   "cell_type": "code",
   "execution_count": 80,
   "metadata": {},
   "outputs": [],
   "source": [
    "v= q.get()"
   ]
  },
  {
   "cell_type": "code",
   "execution_count": 81,
   "metadata": {},
   "outputs": [
    {
     "data": {
      "text/plain": [
       "(0.9999999999, -2627504400816755756)"
      ]
     },
     "execution_count": 81,
     "metadata": {},
     "output_type": "execute_result"
    }
   ],
   "source": [
    "v"
   ]
  },
  {
   "cell_type": "code",
   "execution_count": 84,
   "metadata": {},
   "outputs": [
    {
     "ename": "KeyError",
     "evalue": "-2627504400816755733",
     "output_type": "error",
     "traceback": [
      "\u001b[1;31m---------------------------------------------------------------------------\u001b[0m",
      "\u001b[1;31mKeyError\u001b[0m                                  Traceback (most recent call last)",
      "\u001b[1;32m<ipython-input-84-221b95a67801>\u001b[0m in \u001b[0;36m<module>\u001b[1;34m\u001b[0m\n\u001b[1;32m----> 1\u001b[1;33m \u001b[0mHASH_TO_STATE\u001b[0m\u001b[1;33m[\u001b[0m\u001b[0mv\u001b[0m\u001b[1;33m[\u001b[0m\u001b[1;36m1\u001b[0m\u001b[1;33m]\u001b[0m\u001b[1;33m+\u001b[0m\u001b[1;36m23\u001b[0m\u001b[1;33m]\u001b[0m\u001b[1;33m\u001b[0m\u001b[1;33m\u001b[0m\u001b[0m\n\u001b[0m",
      "\u001b[1;31mKeyError\u001b[0m: -2627504400816755733"
     ]
    }
   ],
   "source": [
    "HASH_TO_STATE[v[1]+23]"
   ]
  },
  {
   "cell_type": "code",
   "execution_count": 312,
   "metadata": {},
   "outputs": [
    {
     "data": {
      "text/plain": [
       "True"
      ]
     },
     "execution_count": 312,
     "metadata": {},
     "output_type": "execute_result"
    }
   ],
   "source": [
    "np.array([True,True,True]).all() == True"
   ]
  },
  {
   "cell_type": "code",
   "execution_count": 423,
   "metadata": {},
   "outputs": [
    {
     "ename": "AttributeError",
     "evalue": "'PriorityQueue' object has no attribute '_remove_existing_item'",
     "output_type": "error",
     "traceback": [
      "\u001b[1;31m---------------------------------------------------------------------------\u001b[0m",
      "\u001b[1;31mAttributeError\u001b[0m                            Traceback (most recent call last)",
      "\u001b[1;32m<ipython-input-423-265893e965e0>\u001b[0m in \u001b[0;36m<module>\u001b[1;34m\u001b[0m\n\u001b[1;32m----> 1\u001b[1;33m \u001b[0mq\u001b[0m\u001b[1;33m.\u001b[0m\u001b[0m_remove_existing_item\u001b[0m\u001b[1;33m(\u001b[0m\u001b[0mhash\u001b[0m\u001b[1;33m(\u001b[0m\u001b[0mb\u001b[0m\u001b[1;33m)\u001b[0m \u001b[1;33m)\u001b[0m\u001b[1;33m\u001b[0m\u001b[1;33m\u001b[0m\u001b[0m\n\u001b[0m",
      "\u001b[1;31mAttributeError\u001b[0m: 'PriorityQueue' object has no attribute '_remove_existing_item'"
     ]
    }
   ],
   "source": [
    "q._remove_existing_item(hash(b) )"
   ]
  },
  {
   "cell_type": "code",
   "execution_count": 432,
   "metadata": {},
   "outputs": [],
   "source": [
    "if not q.empty():\n",
    "    print(q.get())"
   ]
  },
  {
   "cell_type": "code",
   "execution_count": 429,
   "metadata": {},
   "outputs": [],
   "source": [
    "q.put( (1.9999999999, hash(b)) )"
   ]
  },
  {
   "cell_type": "code",
   "execution_count": null,
   "metadata": {},
   "outputs": [],
   "source": []
  }
 ],
 "metadata": {
  "kernelspec": {
   "display_name": "Python 3",
   "language": "python",
   "name": "python3"
  },
  "language_info": {
   "codemirror_mode": {
    "name": "ipython",
    "version": 3
   },
   "file_extension": ".py",
   "mimetype": "text/x-python",
   "name": "python",
   "nbconvert_exporter": "python",
   "pygments_lexer": "ipython3",
   "version": "3.8.7"
  }
 },
 "nbformat": 4,
 "nbformat_minor": 4
}
