{
 "cells": [
  {
   "cell_type": "code",
   "execution_count": 1,
   "metadata": {},
   "outputs": [],
   "source": [
    "import gym\n",
    "import os\n",
    "from gym.envs.toy_text.frozen_lake import generate_random_map\n",
    "from matplotlib import pyplot as plt\n",
    "from cmdscreen import CMDScreen\n",
    "from Sarsa0 import Sarsa0\n",
    "import numpy as np"
   ]
  },
  {
   "cell_type": "code",
   "execution_count": 74,
   "metadata": {},
   "outputs": [
    {
     "name": "stdout",
     "output_type": "stream",
     "text": [
      "\n",
      "\u001b[41mS\u001b[0mFFF\n",
      "FHFH\n",
      "FFFH\n",
      "HFFG\n"
     ]
    }
   ],
   "source": [
    "screen = CMDScreen()\n",
    "\n",
    "env = gym.make(\"FrozenLake-v1\", desc=[\"SFFF\", \"FHFH\", \"FFFH\", \"HFFG\"],\n",
    "               map_name=\"4x4\", is_slippery=False)\n",
    "\n",
    "env.reset()\n",
    "\n",
    "env.render()"
   ]
  },
  {
   "cell_type": "markdown",
   "metadata": {},
   "source": [
    "### Parameters"
   ]
  },
  {
   "cell_type": "code",
   "execution_count": 82,
   "metadata": {},
   "outputs": [],
   "source": [
    "alpha = 0.15\n",
    "eps = 0.1\n",
    "gamma = 1.0\n",
    "n_episodes = 15000"
   ]
  },
  {
   "cell_type": "code",
   "execution_count": 83,
   "metadata": {},
   "outputs": [
    {
     "data": {
      "text/plain": [
       "array([0.5, 0.5, 0.5, 0.5, 0.5, 0. , 0.5, 0. , 0.5, 0.5, 0.5, 0. , 0. ,\n",
       "       0.5, 0.5, 0. ])"
      ]
     },
     "execution_count": 83,
     "metadata": {},
     "output_type": "execute_result"
    }
   ],
   "source": [
    "# INITIALIZE Q\n",
    "# Q is abritrarily initialized for all the states except terminal ones.. where Q(terminalS, :) = 0\n",
    "\n",
    "Q = np.ones((16,4))*0.5\n",
    "# we know 5, 7, 11, 12, 15 are terminal\n",
    "Q[5][:] = 0\n",
    "Q[7][:] = 0\n",
    "Q[11][:] = 0\n",
    "Q[12][:] = 0\n",
    "Q[15][:] = 0\n",
    "Q[:,0]"
   ]
  },
  {
   "cell_type": "code",
   "execution_count": 84,
   "metadata": {},
   "outputs": [],
   "source": [
    "def get_action(eps, Q, s):\n",
    "    r = np.random.random()\n",
    "    if r < eps:\n",
    "        a = np.random.randint(0,4)\n",
    "    else:\n",
    "        a = np.argmax(Q[s])\n",
    "    return a"
   ]
  },
  {
   "cell_type": "code",
   "execution_count": 85,
   "metadata": {},
   "outputs": [],
   "source": [
    "env.reset()\n",
    "for e in range(n_episodes):\n",
    "    s = 0\n",
    "    done = False\n",
    "    a = get_action(eps, Q, s)\n",
    "    while not done:\n",
    "        s_, r, done, prob = env.step(a)\n",
    "        a_ = get_action(eps, Q, s_)\n",
    "        \n",
    "        Q[s][a] = Q[s][a] + alpha*(r + gamma*Q[s_][a_] - Q[s][a])\n",
    "        s=s_\n",
    "        a=a_\n",
    "    env.reset()"
   ]
  },
  {
   "cell_type": "code",
   "execution_count": 86,
   "metadata": {},
   "outputs": [
    {
     "data": {
      "text/plain": [
       "1"
      ]
     },
     "execution_count": 86,
     "metadata": {},
     "output_type": "execute_result"
    }
   ],
   "source": [
    "get_action(eps, Q, 0)"
   ]
  },
  {
   "cell_type": "code",
   "execution_count": 87,
   "metadata": {},
   "outputs": [
    {
     "data": {
      "text/plain": [
       "1"
      ]
     },
     "execution_count": 87,
     "metadata": {},
     "output_type": "execute_result"
    }
   ],
   "source": [
    "get_action(eps, Q, 0)"
   ]
  },
  {
   "cell_type": "code",
   "execution_count": 88,
   "metadata": {},
   "outputs": [
    {
     "data": {
      "text/plain": [
       "array([[7.79572712e-01, 8.97856055e-01, 6.80303493e-01, 7.61375463e-01],\n",
       "       [7.64684903e-01, 1.23172480e-33, 7.32467710e-01, 6.97555875e-01],\n",
       "       [6.85243250e-01, 6.09364383e-01, 6.61746789e-01, 6.71746356e-01],\n",
       "       [7.25806280e-01, 3.52007228e-06, 7.19757841e-01, 6.86630785e-01],\n",
       "       [8.05141018e-01, 8.17377620e-01, 2.55755025e-30, 7.91489314e-01],\n",
       "       [0.00000000e+00, 0.00000000e+00, 0.00000000e+00, 0.00000000e+00],\n",
       "       [1.44300788e-15, 7.35211029e-01, 1.52404792e-17, 7.45175292e-01],\n",
       "       [0.00000000e+00, 0.00000000e+00, 0.00000000e+00, 0.00000000e+00],\n",
       "       [7.43958014e-01, 4.38611432e-20, 9.85431800e-01, 7.39758675e-01],\n",
       "       [8.27085115e-01, 9.92930327e-01, 8.60751027e-01, 5.15290737e-14],\n",
       "       [9.64324539e-01, 9.98070248e-01, 2.00004393e-21, 7.89757999e-01],\n",
       "       [0.00000000e+00, 0.00000000e+00, 0.00000000e+00, 0.00000000e+00],\n",
       "       [0.00000000e+00, 0.00000000e+00, 0.00000000e+00, 0.00000000e+00],\n",
       "       [8.61096518e-09, 9.30740685e-01, 9.95625228e-01, 9.65648086e-01],\n",
       "       [9.21561166e-01, 9.99998722e-01, 1.00000000e+00, 9.72783920e-01],\n",
       "       [0.00000000e+00, 0.00000000e+00, 0.00000000e+00, 0.00000000e+00]])"
      ]
     },
     "execution_count": 88,
     "metadata": {},
     "output_type": "execute_result"
    }
   ],
   "source": [
    "Q"
   ]
  },
  {
   "cell_type": "code",
   "execution_count": 105,
   "metadata": {},
   "outputs": [
    {
     "name": "stdout",
     "output_type": "stream",
     "text": [
      "  (Left)\n",
      "SFFF\n",
      "FHFH\n",
      "FFFH\n",
      "HFF\u001b[41mG\u001b[0m\n"
     ]
    }
   ],
   "source": [
    "a = get_action(eps, Q, s)\n",
    "s = env.step(a)[0]\n",
    "env.render()"
   ]
  },
  {
   "cell_type": "code",
   "execution_count": null,
   "metadata": {},
   "outputs": [],
   "source": []
  },
  {
   "cell_type": "code",
   "execution_count": null,
   "metadata": {},
   "outputs": [],
   "source": []
  }
 ],
 "metadata": {
  "kernelspec": {
   "display_name": "Python 3",
   "language": "python",
   "name": "python3"
  },
  "language_info": {
   "codemirror_mode": {
    "name": "ipython",
    "version": 3
   },
   "file_extension": ".py",
   "mimetype": "text/x-python",
   "name": "python",
   "nbconvert_exporter": "python",
   "pygments_lexer": "ipython3",
   "version": "3.8.7"
  }
 },
 "nbformat": 4,
 "nbformat_minor": 4
}
