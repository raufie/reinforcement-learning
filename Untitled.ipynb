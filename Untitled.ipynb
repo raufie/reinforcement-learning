{
 "cells": [
  {
   "cell_type": "markdown",
   "metadata": {},
   "source": [
    "\\begin{align*}\n",
    "T(v) &= T\\left(\\sum_{b\\in B} a_b \\cdot b\\right) \\\n",
    "&= \\sum_{b\\in B} a_b \\cdot T(b) \\quad \\text{(linearity of $T$)} \\\n",
    "&= \\sum_{b\\in B} a_b \\cdot S(b) \\quad \\text{(since $T(b) = S(b)$ for all $b\\in B$)}\\\n",
    "&= S\\left(\\sum_{b\\in B} a_b \\cdot b\\right) \\quad \\text{(linearity of $S$)} \\\n",
    "&= S(v)\n",
    "\\end{align*}"
   ]
  },
  {
   "cell_type": "code",
   "execution_count": null,
   "metadata": {},
   "outputs": [],
   "source": []
  }
 ],
 "metadata": {
  "kernelspec": {
   "display_name": "Python 3",
   "language": "python",
   "name": "python3"
  },
  "language_info": {
   "codemirror_mode": {
    "name": "ipython",
    "version": 3
   },
   "file_extension": ".py",
   "mimetype": "text/x-python",
   "name": "python",
   "nbconvert_exporter": "python",
   "pygments_lexer": "ipython3",
   "version": "3.8.7"
  }
 },
 "nbformat": 4,
 "nbformat_minor": 4
}
