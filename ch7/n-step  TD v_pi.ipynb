{
 "cells": [
  {
   "cell_type": "code",
   "execution_count": 1,
   "metadata": {},
   "outputs": [],
   "source": [
    "import gym\n",
    "import numpy as np\n",
    "import time\n",
    "import os\n",
    "from IPython.display import display, clear_output\n",
    "import matplotlib.pyplot as plt"
   ]
  },
  {
   "cell_type": "code",
   "execution_count": 2,
   "metadata": {},
   "outputs": [],
   "source": [
    "env = gym.make('CliffWalking-v0')"
   ]
  },
  {
   "cell_type": "code",
   "execution_count": 3,
   "metadata": {},
   "outputs": [
    {
     "data": {
      "text/plain": [
       "4"
      ]
     },
     "execution_count": 3,
     "metadata": {},
     "output_type": "execute_result"
    }
   ],
   "source": [
    "env.nA"
   ]
  },
  {
   "cell_type": "code",
   "execution_count": 56,
   "metadata": {},
   "outputs": [],
   "source": [
    "pi = np.random.normal(0.5, 0.15, (16,4))"
   ]
  },
  {
   "cell_type": "markdown",
   "metadata": {},
   "source": [
    "# N Step TD Loop"
   ]
  },
  {
   "cell_type": "code",
   "execution_count": 131,
   "metadata": {},
   "outputs": [],
   "source": [
    "V = {s:0 for s in range(env.nS)}\n",
    "# AN EPISODE ITERATIOn\n",
    "\n",
    "s = env.reset()\n",
    "Tau = 0\n",
    "t = 0\n",
    "T = np.inf\n",
    "\n",
    "S = [0]*(n+1)\n",
    "R = [0]*(n+1)\n",
    "\n",
    "while Tau != T - 1:\n",
    "    \n",
    "    if t < T: #dont loop over this part if its done\n",
    "        s,r, done, probs = env.step(policy(s))\n",
    "        \n",
    "        S[t%(n+1)] = s\n",
    "        R[t%(n+1)] = r\n",
    "        if done:\n",
    "            #we know if T is terminal, its t+1\n",
    "            T = t + 1\n",
    "            \n",
    "    Tau = t-n+1\n",
    "    \n",
    "    if Tau >= 0:\n",
    "#         sum up to n\n",
    "        G = sum([(gamma**(k-Tau-1))*(R[(k)%(n+1)])for k in range(Tau+1, min(Tau+n,T))])\n",
    "        if Tau +n < T:\n",
    "            G += (gamma**n)*(V[S[(Tau+n)%(n+1)]])\n",
    "        V[S[Tau%(n+1)]]+= alpha*( G - V[S[Tau%(n+1)]])\n",
    "    t+=1\n",
    "        \n",
    "                         "
   ]
  },
  {
   "cell_type": "code",
   "execution_count": 150,
   "metadata": {},
   "outputs": [],
   "source": [
    "def estimate_v(env, pi, alpha, gamma, n, n_episodes):\n",
    "    \n",
    "    V = {s:0 for s in range(env.nS)}\n",
    "    for i in range(n_episodes):\n",
    "    # AN EPISODE ITERATIOn\n",
    "        s = env.reset()\n",
    "        Tau = 0\n",
    "        t = 0\n",
    "        T = np.inf\n",
    "\n",
    "        S = [0]*(n+1)\n",
    "        R = [0]*(n+1)\n",
    "\n",
    "        while Tau != T - 1:\n",
    "\n",
    "            if t < T: #dont loop over this part if its done\n",
    "                S[(t)%(n+1)] = s\n",
    "                s,r, done, probs = env.step(policy(s))\n",
    "\n",
    "                \n",
    "                R[(t+1)%(n+1)] = r\n",
    "                if done:\n",
    "                    #we know if T is terminal, its t+1\n",
    "                    T = t + 1\n",
    "\n",
    "            Tau = t-n+1\n",
    "\n",
    "            if Tau >= 0:\n",
    "        #         sum up to n\n",
    "                G = sum([(gamma**(k-Tau-1))*(R[(k)%(n+1)])for k in range(Tau+1, min(Tau+n,T))])\n",
    "                if Tau +n < T:\n",
    "                    G += (gamma**n)*(V[S[(Tau+n)%(n+1)]])\n",
    "                V[S[Tau%(n+1)]]+= alpha*( G - V[S[Tau%(n+1)]])\n",
    "            t+=1\n",
    "    return V\n"
   ]
  },
  {
   "cell_type": "code",
   "execution_count": 151,
   "metadata": {},
   "outputs": [
    {
     "data": {
      "text/plain": [
       "{0: -120058.1694011119,\n",
       " 1: -119983.80699781599,\n",
       " 2: -119827.87837031676,\n",
       " 3: -116744.32807511682,\n",
       " 4: -116073.64431094745,\n",
       " 5: -115925.15867938314,\n",
       " 6: -111968.12862585418,\n",
       " 7: -102309.47596043446,\n",
       " 8: -94321.40357987773,\n",
       " 9: -79532.46079725688,\n",
       " 10: -17150.249862056797,\n",
       " 11: -63988.016931490645,\n",
       " 12: -120227.2799479549,\n",
       " 13: -120051.03086371027,\n",
       " 14: -119256.74567843246,\n",
       " 15: -118102.75195243434,\n",
       " 16: -117305.73655605817,\n",
       " 17: -115283.82708264448,\n",
       " 18: -111699.8417791463,\n",
       " 19: -108943.94217834622,\n",
       " 20: -97107.81575805912,\n",
       " 21: -83553.7293642952,\n",
       " 22: -6275.0303988475425,\n",
       " 23: -3787.6932041394643,\n",
       " 24: -120246.06818958643,\n",
       " 25: -120133.37640722141,\n",
       " 26: -118477.60504675432,\n",
       " 27: -117203.50770534939,\n",
       " 28: -115013.96441166557,\n",
       " 29: -113284.9092313149,\n",
       " 30: -111749.85566515964,\n",
       " 31: -108511.15983107373,\n",
       " 32: -91531.94699941872,\n",
       " 33: -84243.80326274243,\n",
       " 34: -51183.166488642666,\n",
       " 35: -420.32541824825137,\n",
       " 36: -120382.68370478007,\n",
       " 37: 0,\n",
       " 38: 0,\n",
       " 39: 0,\n",
       " 40: 0,\n",
       " 41: 0,\n",
       " 42: 0,\n",
       " 43: 0,\n",
       " 44: 0,\n",
       " 45: 0,\n",
       " 46: 0,\n",
       " 47: 0}"
      ]
     },
     "execution_count": 151,
     "metadata": {},
     "output_type": "execute_result"
    }
   ],
   "source": [
    "estimate_v(env,  pi, 0.5, 1.0,9, 10)"
   ]
  },
  {
   "cell_type": "code",
   "execution_count": 46,
   "metadata": {},
   "outputs": [
    {
     "data": {
      "text/plain": [
       "[0, 0, 0]"
      ]
     },
     "execution_count": 46,
     "metadata": {},
     "output_type": "execute_result"
    }
   ],
   "source": [
    "[0]*3"
   ]
  },
  {
   "cell_type": "code",
   "execution_count": 47,
   "metadata": {},
   "outputs": [
    {
     "data": {
      "text/plain": [
       "inf"
      ]
     },
     "execution_count": 47,
     "metadata": {},
     "output_type": "execute_result"
    }
   ],
   "source": [
    "np.inf"
   ]
  },
  {
   "cell_type": "code",
   "execution_count": 71,
   "metadata": {},
   "outputs": [],
   "source": [
    "def policy(state):\n",
    "    return env.action_space.sample()"
   ]
  },
  {
   "cell_type": "markdown",
   "metadata": {},
   "source": [
    "$ V[S] = V[S] + \\alpha \\cdot [G - V[S]]  $ "
   ]
  },
  {
   "cell_type": "code",
   "execution_count": 96,
   "metadata": {},
   "outputs": [],
   "source": [
    "# Hyperparameters\n",
    "alpha = 0.5\n",
    "gamma = 1.0\n",
    "n = 5\n",
    "n_episodes = 10"
   ]
  },
  {
   "cell_type": "code",
   "execution_count": 116,
   "metadata": {},
   "outputs": [],
   "source": [
    "V = np.random.normal(0.5,0.1,(env.nS,))\n",
    "\n",
    "for episode  in range(n_episodes):\n",
    "    s = env.reset()\n",
    "    Tau = 0 # Tau is the state that we have to update, it will require n + Tau steps\n",
    "    T = np.inf # T is the terminal state\n",
    "    t=0\n",
    "#     WE NEED TO STORE States and Rewards in a buffer becuz each state requires N steps to update in n step td\n",
    "    S = [0]*(n+1) # why n+1 ? because its state_to_update + n_next_states\n",
    "    R = [0]*(n+1)   \n",
    "    \n",
    "    while Tau != T - 1: # if Tau equals T - 1 tht means that we have reached the end, nothing more to update V with\n",
    "        if t <  T:\n",
    "            a = policy(s)\n",
    "            next_state, reward, done,  prob = env.step(a)\n",
    "            s = next_state\n",
    "            R[(t+1)%(n+1)] = reward\n",
    "            \n",
    "            if done:\n",
    "                T = t+1\n",
    "                \n",
    "        Tau = t-n+1\n",
    "        \n",
    "        if Tau >= 0:\n",
    "#             this means that we do have n steps ahead of s in S buffer\n",
    "            \n",
    "        \n",
    "            G = sum([(gamma**(k-Tau-1))*(R[(k)%(n+1)])for k in range(Tau+1, min(Tau+n, T))])\n",
    "            if Tau + n < T:\n",
    "                G+= (gamma**n)*(V[S[(Tau+n)%(n+1)]])\n",
    "            \n",
    "            V[S[Tau%(n+1)]] += V[S[Tau%(n+1)]] + gamma*(G-V[S[Tau%(n+1)]])\n",
    "        t+=1\n",
    "        \n",
    "    "
   ]
  },
  {
   "cell_type": "code",
   "execution_count": 117,
   "metadata": {},
   "outputs": [
    {
     "data": {
      "text/plain": [
       "array([-8.19068822e+03,  5.01871221e-01,  5.10336121e-01,  2.90810511e-01,\n",
       "        4.94248553e-01,  4.69048059e-01,  5.62461934e-01,  5.22486865e-01,\n",
       "        3.67784807e-01,  6.60873698e-01,  4.33283220e-01,  6.57925239e-01,\n",
       "        5.15180530e-01,  7.00826632e-01,  4.96678338e-01,  5.95214406e-01,\n",
       "        5.40681050e-01,  2.98863380e-01,  5.65342804e-01,  5.30393234e-01,\n",
       "        6.18072752e-01,  6.25799878e-01,  2.47829844e-01,  4.21974229e-01,\n",
       "        4.71250524e-01,  5.73922538e-01,  5.64413656e-01,  4.22345332e-01,\n",
       "        3.17124341e-01,  6.78090607e-01,  4.75288663e-01,  4.44209799e-01,\n",
       "        5.09706041e-01,  4.27728519e-01,  4.58293787e-01,  6.05009058e-01,\n",
       "        5.25909115e-01,  5.42932818e-01,  4.55826213e-01,  4.39527233e-01,\n",
       "        5.61531778e-01,  5.17092254e-01,  5.64909097e-01,  4.31998902e-01,\n",
       "        5.00727024e-01,  5.17983772e-01,  3.95501353e-01,  6.92800748e-01])"
      ]
     },
     "execution_count": 117,
     "metadata": {},
     "output_type": "execute_result"
    }
   ],
   "source": [
    "V"
   ]
  },
  {
   "cell_type": "code",
   "execution_count": 77,
   "metadata": {},
   "outputs": [
    {
     "data": {
      "text/plain": [
       "(24, -1, False, {'prob': 1.0})"
      ]
     },
     "execution_count": 77,
     "metadata": {},
     "output_type": "execute_result"
    }
   ],
   "source": [
    "env.step(0)"
   ]
  },
  {
   "cell_type": "code",
   "execution_count": 146,
   "metadata": {},
   "outputs": [],
   "source": [
    "import numpy as np\n",
    "\n",
    "def n_step_td(env, n, alpha, gamma, num_episodes):\n",
    "\n",
    "    V = {s: 0 for s in range(env.nS)}  # initialize value function to zero\n",
    "    for i in range(num_episodes):\n",
    "        s = env.reset()\n",
    "        T = np.inf\n",
    "        t = 0\n",
    "        tau = 0\n",
    "        R = [0] * (n+1)\n",
    "        S = [0] * (n+1)\n",
    "        while tau != T-1:\n",
    "            if t < T:\n",
    "                a = env.action_space.sample()  # take random action\n",
    "                S[t % (n+1)] = s\n",
    "                obs, r, done, _ = env.step(a)\n",
    "                R[(t+1) % (n+1)] = r\n",
    "                s = obs\n",
    "                if done:\n",
    "                    T = t+1\n",
    "            tau = t-n+1\n",
    "            if tau >= 0:\n",
    "                G = sum([gamma**(k-tau-1) * R[(k) % (n+1)] for k in range(tau+1, min(tau+n, T))])\n",
    "                if tau + n < T:\n",
    "                    G += gamma**n * V[S[(tau+n) % (n+1)]]\n",
    "                V[S[tau % (n+1)]] += alpha * (G - V[S[tau % (n+1)]])\n",
    "            t += 1\n",
    "    return V\n"
   ]
  },
  {
   "cell_type": "code",
   "execution_count": 148,
   "metadata": {},
   "outputs": [
    {
     "data": {
      "text/plain": [
       "{0: -189006.799580926,\n",
       " 1: -188530.66496116604,\n",
       " 2: -187892.07432720897,\n",
       " 3: -187254.95269467527,\n",
       " 4: -184596.30245573857,\n",
       " 5: -184491.85170018813,\n",
       " 6: -182180.15283696138,\n",
       " 7: -180143.80905827341,\n",
       " 8: -155688.73748774483,\n",
       " 9: -155445.13252011876,\n",
       " 10: -76237.92149307302,\n",
       " 11: -67789.83916195987,\n",
       " 12: -189721.4580360364,\n",
       " 13: -188559.15245360194,\n",
       " 14: -188362.43138724554,\n",
       " 15: -187511.76221887377,\n",
       " 16: -187340.65295756058,\n",
       " 17: -184328.2485386689,\n",
       " 18: -183063.5990314128,\n",
       " 19: -180839.14626193352,\n",
       " 20: -154310.72950355674,\n",
       " 21: -145890.75106374698,\n",
       " 22: -30024.45456897628,\n",
       " 23: -5339.454694286176,\n",
       " 24: -190858.79461996886,\n",
       " 25: -189758.53377440933,\n",
       " 26: -188204.3813422197,\n",
       " 27: -187969.83607704932,\n",
       " 28: -187315.07773449534,\n",
       " 29: -185540.58461445526,\n",
       " 30: -183448.2744093553,\n",
       " 31: -169299.45042149175,\n",
       " 32: -161235.88870627127,\n",
       " 33: -90697.92767362314,\n",
       " 34: -110701.3073875789,\n",
       " 35: -40553.54184462424,\n",
       " 36: -190882.40453974518,\n",
       " 37: 0,\n",
       " 38: 0,\n",
       " 39: 0,\n",
       " 40: 0,\n",
       " 41: 0,\n",
       " 42: 0,\n",
       " 43: 0,\n",
       " 44: 0,\n",
       " 45: 0,\n",
       " 46: 0,\n",
       " 47: 0}"
      ]
     },
     "execution_count": 148,
     "metadata": {},
     "output_type": "execute_result"
    }
   ],
   "source": [
    "n_step_td(env, 9, 0.5, 1.0, 10)"
   ]
  },
  {
   "cell_type": "code",
   "execution_count": 92,
   "metadata": {},
   "outputs": [
    {
     "data": {
      "text/plain": [
       "48"
      ]
     },
     "execution_count": 92,
     "metadata": {},
     "output_type": "execute_result"
    }
   ],
   "source": [
    "env.nS"
   ]
  },
  {
   "cell_type": "code",
   "execution_count": 101,
   "metadata": {},
   "outputs": [
    {
     "data": {
      "text/plain": [
       "array([0.        , 0.45274737, 0.61879469, 0.56536225, 0.37926139,\n",
       "       0.35222396, 0.33514604, 0.36952283, 0.60315817, 0.4743223 ,\n",
       "       0.45838079, 0.47892398, 0.45319138, 0.51735309, 0.65236167,\n",
       "       0.67551861, 0.48221067, 0.60273489, 0.5389539 , 0.68200185,\n",
       "       0.44788757, 0.53549689, 0.64443   , 0.47747389, 0.66575964,\n",
       "       0.3871559 , 0.57807486, 0.51996313, 0.4812479 , 0.4706883 ,\n",
       "       0.51950667, 0.35716722, 0.62816199, 0.52569943, 0.59079331,\n",
       "       0.43135863, 0.43571265, 0.42923051, 0.50745922, 0.57812942,\n",
       "       0.52238718, 0.6167244 , 0.50678745, 0.48797513, 0.3497774 ,\n",
       "       0.48387802, 0.39308986, 0.62233086])"
      ]
     },
     "execution_count": 101,
     "metadata": {},
     "output_type": "execute_result"
    }
   ],
   "source": [
    "V\n"
   ]
  },
  {
   "cell_type": "code",
   "execution_count": 128,
   "metadata": {},
   "outputs": [],
   "source": [
    "\n",
    "    "
   ]
  },
  {
   "cell_type": "code",
   "execution_count": 129,
   "metadata": {},
   "outputs": [
    {
     "data": {
      "text/plain": [
       "{0: -9211.020903950039,\n",
       " 1: -9343.371991003809,\n",
       " 2: -8845.74285020989,\n",
       " 3: -8337.52510270644,\n",
       " 4: -8224.207021296708,\n",
       " 5: -6223.116893145227,\n",
       " 6: -4801.23511568733,\n",
       " 7: -2606.995512564587,\n",
       " 8: -2379.026726406637,\n",
       " 9: -600.2092269703866,\n",
       " 10: -595.8505126172438,\n",
       " 11: -457.3644267090367,\n",
       " 12: -9515.827255415803,\n",
       " 13: -9282.505850506815,\n",
       " 14: -9022.221760830394,\n",
       " 15: -9036.915452627163,\n",
       " 16: -8604.77198195947,\n",
       " 17: -7875.248829056012,\n",
       " 18: -3609.15167685052,\n",
       " 19: -2551.117859866865,\n",
       " 20: -2056.489415794938,\n",
       " 21: -116.07937780031111,\n",
       " 22: -115.57937780031111,\n",
       " 23: -59.67055333862959,\n",
       " 24: -9484.637907846418,\n",
       " 25: -9582.356694984825,\n",
       " 26: -9675.503455210099,\n",
       " 27: -8851.074333019473,\n",
       " 28: -7468.528340563917,\n",
       " 29: -7543.852378777417,\n",
       " 30: -2739.8326874812933,\n",
       " 31: -2368.778796306853,\n",
       " 32: -1029.26532288599,\n",
       " 33: -764.8378053879158,\n",
       " 34: 0,\n",
       " 35: -0.5,\n",
       " 36: -9278.813351250548,\n",
       " 37: 0,\n",
       " 38: 0,\n",
       " 39: 0,\n",
       " 40: 0,\n",
       " 41: 0,\n",
       " 42: 0,\n",
       " 43: 0,\n",
       " 44: 0,\n",
       " 45: 0,\n",
       " 46: 0,\n",
       " 47: 0.0}"
      ]
     },
     "execution_count": 129,
     "metadata": {},
     "output_type": "execute_result"
    }
   ],
   "source": [
    "V"
   ]
  },
  {
   "cell_type": "code",
   "execution_count": null,
   "metadata": {},
   "outputs": [],
   "source": []
  }
 ],
 "metadata": {
  "kernelspec": {
   "display_name": "Python 3",
   "language": "python",
   "name": "python3"
  },
  "language_info": {
   "codemirror_mode": {
    "name": "ipython",
    "version": 3
   },
   "file_extension": ".py",
   "mimetype": "text/x-python",
   "name": "python",
   "nbconvert_exporter": "python",
   "pygments_lexer": "ipython3",
   "version": "3.8.7"
  }
 },
 "nbformat": 4,
 "nbformat_minor": 4
}
