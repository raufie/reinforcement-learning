{
 "cells": [
  {
   "cell_type": "code",
   "execution_count": 1,
   "metadata": {},
   "outputs": [],
   "source": [
    "import gym\n",
    "import numpy as np\n",
    "import time\n",
    "import os\n",
    "from IPython.display import display, clear_output\n",
    "import matplotlib.pyplot as plt"
   ]
  },
  {
   "cell_type": "code",
   "execution_count": 2,
   "metadata": {},
   "outputs": [],
   "source": [
    "env = gym.make('CliffWalking-v0')"
   ]
  },
  {
   "cell_type": "code",
   "execution_count": 3,
   "metadata": {},
   "outputs": [
    {
     "data": {
      "text/plain": [
       "4"
      ]
     },
     "execution_count": 3,
     "metadata": {},
     "output_type": "execute_result"
    }
   ],
   "source": [
    "env.nA"
   ]
  },
  {
   "cell_type": "code",
   "execution_count": 56,
   "metadata": {},
   "outputs": [],
   "source": [
    "pi = np.random.normal(0.5, 0.15, (16,4))"
   ]
  },
  {
   "cell_type": "markdown",
   "metadata": {},
   "source": [
    "# N Step TD Loop"
   ]
  },
  {
   "cell_type": "code",
   "execution_count": 44,
   "metadata": {},
   "outputs": [],
   "source": [
    "\n",
    "        \n",
    "                         "
   ]
  },
  {
   "cell_type": "code",
   "execution_count": 45,
   "metadata": {},
   "outputs": [],
   "source": [
    "estimate_v(env,  pi, 0.5, 5)"
   ]
  },
  {
   "cell_type": "code",
   "execution_count": 46,
   "metadata": {},
   "outputs": [
    {
     "data": {
      "text/plain": [
       "[0, 0, 0]"
      ]
     },
     "execution_count": 46,
     "metadata": {},
     "output_type": "execute_result"
    }
   ],
   "source": [
    "[0]*3"
   ]
  },
  {
   "cell_type": "code",
   "execution_count": 47,
   "metadata": {},
   "outputs": [
    {
     "data": {
      "text/plain": [
       "inf"
      ]
     },
     "execution_count": 47,
     "metadata": {},
     "output_type": "execute_result"
    }
   ],
   "source": [
    "np.inf"
   ]
  },
  {
   "cell_type": "code",
   "execution_count": 71,
   "metadata": {},
   "outputs": [],
   "source": [
    "def policy(state):\n",
    "    return env.action_space.sample()"
   ]
  },
  {
   "cell_type": "markdown",
   "metadata": {},
   "source": [
    "$ V[S] = V[S] + \\alpha \\cdot [G - V[S]]  $ "
   ]
  },
  {
   "cell_type": "code",
   "execution_count": 96,
   "metadata": {},
   "outputs": [],
   "source": [
    "# Hyperparameters\n",
    "alpha = 0.5\n",
    "gamma = 1.0\n",
    "n = 5\n",
    "n_episodes = 10"
   ]
  },
  {
   "cell_type": "code",
   "execution_count": 106,
   "metadata": {},
   "outputs": [
    {
     "name": "stderr",
     "output_type": "stream",
     "text": [
      "<ipython-input-106-3b1dfea15fee>:31: RuntimeWarning: overflow encountered in double_scalars\n",
      "  V[S[Tau%(n+1)]] += V[S[Tau%(n+1)]] + gamma*(G-V[S[Tau%(n+1)]])\n",
      "<ipython-input-106-3b1dfea15fee>:31: RuntimeWarning: invalid value encountered in double_scalars\n",
      "  V[S[Tau%(n+1)]] += V[S[Tau%(n+1)]] + gamma*(G-V[S[Tau%(n+1)]])\n"
     ]
    }
   ],
   "source": [
    "for episode  in range(n_episodes):\n",
    "    s = env.reset()\n",
    "    Tau = 0 # Tau is the state that we have to update, it will require n + Tau steps\n",
    "    T = np.inf # T is the terminal state\n",
    "    V = np.random.normal(0.5,0.1,(env.nS,))\n",
    "    t=0\n",
    "#     WE NEED TO STORE States and Rewards in a buffer becuz each state requires N steps to update in n step td\n",
    "    S = [0]*(n+1) # why n+1 ? because its state_to_update + n_next_states\n",
    "    R = [0]*(n+1)   \n",
    "    \n",
    "    while Tau != T - 1: # if Tau equals T - 1 tht means that we have reached the end, nothing more to update V with\n",
    "        if t <  T:\n",
    "            a = policy(s)\n",
    "            next_state, reward, done,  prob = env.step(a)\n",
    "            s = next_state\n",
    "            R[(t+1)%(n+1)] = reward\n",
    "            \n",
    "            if done:\n",
    "                T = t+1\n",
    "                \n",
    "        Tau = t-n+1\n",
    "        \n",
    "        if Tau >= 0:\n",
    "#             this means that we do have n steps ahead of s in S buffer\n",
    "            \n",
    "        \n",
    "            G = sum([(gamma**(k-Tau-1))*(R[(k)%(n+1)])for k in range(Tau+1, min(Tau+n, T))])\n",
    "            if Tau + n < T:\n",
    "                G+= (gamma**n)*(V[S[(Tau+n)%(n+1)]])\n",
    "            \n",
    "            V[S[Tau%(n+1)]] += V[S[Tau%(n+1)]] + gamma*(G-V[S[Tau%(n+1)]])\n",
    "        t+=1\n",
    "        \n",
    "    "
   ]
  },
  {
   "cell_type": "code",
   "execution_count": 107,
   "metadata": {},
   "outputs": [
    {
     "data": {
      "text/plain": [
       "array([       nan, 0.52944179, 0.61824669, 0.48785046, 0.55619761,\n",
       "       0.30289623, 0.54772737, 0.39110026, 0.59720746, 0.56373995,\n",
       "       0.45084482, 0.50816553, 0.50702344, 0.57519348, 0.4837318 ,\n",
       "       0.48325931, 0.48941298, 0.56206724, 0.65834278, 0.63190409,\n",
       "       0.44365106, 0.51022521, 0.58582123, 0.36242897, 0.64057942,\n",
       "       0.47849975, 0.67664094, 0.59153048, 0.43595025, 0.43090073,\n",
       "       0.31971742, 0.3527249 , 0.46044074, 0.67809596, 0.57775568,\n",
       "       0.50318338, 0.5060034 , 0.49970159, 0.57877647, 0.61992093,\n",
       "       0.54890109, 0.44798321, 0.60072904, 0.51831166, 0.58035116,\n",
       "       0.52658097, 0.51331736, 0.46067788])"
      ]
     },
     "execution_count": 107,
     "metadata": {},
     "output_type": "execute_result"
    }
   ],
   "source": [
    "V"
   ]
  },
  {
   "cell_type": "code",
   "execution_count": 77,
   "metadata": {},
   "outputs": [
    {
     "data": {
      "text/plain": [
       "(24, -1, False, {'prob': 1.0})"
      ]
     },
     "execution_count": 77,
     "metadata": {},
     "output_type": "execute_result"
    }
   ],
   "source": [
    "env.step(0)"
   ]
  },
  {
   "cell_type": "code",
   "execution_count": 108,
   "metadata": {},
   "outputs": [],
   "source": [
    "import numpy as np\n",
    "\n",
    "def n_step_td(env, n, alpha, gamma, num_episodes):\n",
    "\n",
    "    V = {s: 0 for s in range(env.nS)}  # initialize value function to zero\n",
    "    for i in range(num_episodes):\n",
    "        s = env.reset()\n",
    "        T = np.inf\n",
    "        t = 0\n",
    "        tau = 0\n",
    "        R = [0] * (n+1)\n",
    "        S = [0] * (n+1)\n",
    "        while tau != T-1:\n",
    "            if t < T:\n",
    "                a = env.action_space.sample()  # take random action\n",
    "                S[t % (n+1)] = s\n",
    "                obs, r, done, _ = env.step(a)\n",
    "                R[(t+1) % (n+1)] = r\n",
    "                s = obs\n",
    "                if done:\n",
    "                    T = t+1\n",
    "            tau = t-n+1\n",
    "            if tau >= 0:\n",
    "                G = sum([gamma**(k-tau-1) * R[(k+1) % (n+1)] for k in range(tau+1, min(tau+n, T))])\n",
    "                if tau + n < T:\n",
    "                    G += gamma**n * V[S[(tau+n) % (n+1)]]\n",
    "                V[S[tau % (n+1)]] += alpha * (G - V[S[tau % (n+1)]])\n",
    "            t += 1\n",
    "    return V\n"
   ]
  },
  {
   "cell_type": "code",
   "execution_count": 109,
   "metadata": {},
   "outputs": [
    {
     "data": {
      "text/plain": [
       "{0: -68559.68636515619,\n",
       " 1: -68521.93879661508,\n",
       " 2: -68494.09516331484,\n",
       " 3: -68787.15998680907,\n",
       " 4: -68687.72223383187,\n",
       " 5: -68177.78943751848,\n",
       " 6: -67682.78573782247,\n",
       " 7: -67236.25164607138,\n",
       " 8: -66847.50647137279,\n",
       " 9: -56694.09750132833,\n",
       " 10: -39566.94303269879,\n",
       " 11: -29692.324307618455,\n",
       " 12: -68560.08175938632,\n",
       " 13: -68511.8813875111,\n",
       " 14: -68469.76286317974,\n",
       " 15: -68526.82479657765,\n",
       " 16: -68378.0693067591,\n",
       " 17: -67861.0878192577,\n",
       " 18: -67202.15353900996,\n",
       " 19: -66998.94218923521,\n",
       " 20: -65052.03555611025,\n",
       " 21: -55306.87761306108,\n",
       " 22: -33396.39824742646,\n",
       " 23: -8285.24414624177,\n",
       " 24: -68590.80691049897,\n",
       " 25: -68662.69076860594,\n",
       " 26: -68589.43246153682,\n",
       " 27: -68539.99857921,\n",
       " 28: -68514.43210996297,\n",
       " 29: -67704.08616513106,\n",
       " 30: -66679.30211714172,\n",
       " 31: -64573.292514478155,\n",
       " 32: -54091.065699635845,\n",
       " 33: -16040.379454351445,\n",
       " 34: -10578.633098773797,\n",
       " 35: -50.48400359999832,\n",
       " 36: -68642.71626308723,\n",
       " 37: 0,\n",
       " 38: 0,\n",
       " 39: 0,\n",
       " 40: 0,\n",
       " 41: 0,\n",
       " 42: 0,\n",
       " 43: 0,\n",
       " 44: 0,\n",
       " 45: 0,\n",
       " 46: 0,\n",
       " 47: 0}"
      ]
     },
     "execution_count": 109,
     "metadata": {},
     "output_type": "execute_result"
    }
   ],
   "source": [
    "n_step_td(env, n, alpha, gamma, n_episodes)"
   ]
  },
  {
   "cell_type": "code",
   "execution_count": 92,
   "metadata": {},
   "outputs": [
    {
     "data": {
      "text/plain": [
       "48"
      ]
     },
     "execution_count": 92,
     "metadata": {},
     "output_type": "execute_result"
    }
   ],
   "source": [
    "env.nS"
   ]
  },
  {
   "cell_type": "code",
   "execution_count": 101,
   "metadata": {},
   "outputs": [
    {
     "data": {
      "text/plain": [
       "array([0.        , 0.45274737, 0.61879469, 0.56536225, 0.37926139,\n",
       "       0.35222396, 0.33514604, 0.36952283, 0.60315817, 0.4743223 ,\n",
       "       0.45838079, 0.47892398, 0.45319138, 0.51735309, 0.65236167,\n",
       "       0.67551861, 0.48221067, 0.60273489, 0.5389539 , 0.68200185,\n",
       "       0.44788757, 0.53549689, 0.64443   , 0.47747389, 0.66575964,\n",
       "       0.3871559 , 0.57807486, 0.51996313, 0.4812479 , 0.4706883 ,\n",
       "       0.51950667, 0.35716722, 0.62816199, 0.52569943, 0.59079331,\n",
       "       0.43135863, 0.43571265, 0.42923051, 0.50745922, 0.57812942,\n",
       "       0.52238718, 0.6167244 , 0.50678745, 0.48797513, 0.3497774 ,\n",
       "       0.48387802, 0.39308986, 0.62233086])"
      ]
     },
     "execution_count": 101,
     "metadata": {},
     "output_type": "execute_result"
    }
   ],
   "source": [
    "V\n"
   ]
  },
  {
   "cell_type": "code",
   "execution_count": null,
   "metadata": {},
   "outputs": [],
   "source": []
  }
 ],
 "metadata": {
  "kernelspec": {
   "display_name": "Python 3",
   "language": "python",
   "name": "python3"
  },
  "language_info": {
   "codemirror_mode": {
    "name": "ipython",
    "version": 3
   },
   "file_extension": ".py",
   "mimetype": "text/x-python",
   "name": "python",
   "nbconvert_exporter": "python",
   "pygments_lexer": "ipython3",
   "version": "3.8.7"
  }
 },
 "nbformat": 4,
 "nbformat_minor": 4
}
